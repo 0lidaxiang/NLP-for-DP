{
 "cells": [
  {
   "cell_type": "code",
   "execution_count": 1,
   "metadata": {},
   "outputs": [
    {
     "name": "stdout",
     "output_type": "stream",
     "text": [
      "CPU times: user 4min 17s, sys: 1.69 s, total: 4min 18s\n",
      "Wall time: 1min 39s\n"
     ]
    }
   ],
   "source": [
    "%%time\n",
    "import pandas as pd\n",
    "from gensim.models.word2vec import Word2Vec\n",
    "\n",
    "train_df = pd.read_pickle(\"./train.pkl\")\n",
    "test_df = pd.read_pickle(\"./test.pkl\")\n",
    "train_df.head()\n",
    "\n",
    "corpus = pd.concat([train_df.text, test_df.text]).sample(frac=1)\n",
    "corpus.head()\n",
    "\n",
    "model = Word2Vec(corpus, size=256, iter= 8, workers=3, min_count=5, negative=3, max_vocab_size=None, window=5)\n",
    "\n",
    "model_file_name = 'word2vec_20180430.model'\n",
    "model.save(model_file_name)\n",
    "model = Word2Vec.load(model_file_name)"
   ]
  },
  {
   "cell_type": "code",
   "execution_count": 2,
   "metadata": {},
   "outputs": [
    {
     "name": "stdout",
     "output_type": "stream",
     "text": [
      "日本\n",
      "相似詞前 100 排序:\n",
      "台灣 , 0.6552005410194397\n",
      "昔 , 0.6429569721221924\n",
      "劇名 , 0.5941272974014282\n",
      "韓國 , 0.5602835416793823\n",
      "料理店 , 0.5451452732086182\n",
      "舞踏 , 0.5445220470428467\n",
      "本土 , 0.5294460654258728\n",
      "原裝 , 0.5230213403701782\n",
      "台灣會 , 0.5182163715362549\n",
      "中國人 , 0.5154495239257812\n",
      "\n",
      "\n",
      "\n",
      "日本 台灣 :  0.6552004981680974\n"
     ]
    },
    {
     "name": "stderr",
     "output_type": "stream",
     "text": [
      "/usr/local/lib/python3.5/dist-packages/ipykernel_launcher.py:1: DeprecationWarning: Call to deprecated `most_similar` (Method will be removed in 4.0.0, use self.wv.most_similar() instead).\n",
      "  \"\"\"Entry point for launching an IPython kernel.\n",
      "/usr/local/lib/python3.5/dist-packages/ipykernel_launcher.py:11: DeprecationWarning: Call to deprecated `similarity` (Method will be removed in 4.0.0, use self.wv.similarity() instead).\n",
      "  # This is added back by InteractiveShellApp.init_path()\n"
     ]
    }
   ],
   "source": [
    "res = model.most_similar(\"日本\", topn=10)\n",
    "\n",
    "print(\"日本\")\n",
    "print(\"相似詞前 100 排序:\")\n",
    "\n",
    "for v in res:\n",
    "    print(v[0], \",\", v[1])\n",
    "\n",
    "print('\\r\\n\\n')\n",
    "\n",
    "res1 = model.similarity('日本', '台灣')\n",
    "print('日本', '台灣 : ', res1)"
   ]
  },
  {
   "cell_type": "code",
   "execution_count": null,
   "metadata": {},
   "outputs": [],
   "source": []
  }
 ],
 "metadata": {
  "kernelspec": {
   "display_name": "Python 3",
   "language": "python",
   "name": "python3"
  },
  "language_info": {
   "codemirror_mode": {
    "name": "ipython",
    "version": 3
   },
   "file_extension": ".py",
   "mimetype": "text/x-python",
   "name": "python",
   "nbconvert_exporter": "python",
   "pygments_lexer": "ipython3",
   "version": "3.5.2"
  }
 },
 "nbformat": 4,
 "nbformat_minor": 2
}
