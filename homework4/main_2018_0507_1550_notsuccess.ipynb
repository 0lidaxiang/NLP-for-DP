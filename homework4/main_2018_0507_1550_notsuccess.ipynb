{
 "cells": [
  {
   "cell_type": "code",
   "execution_count": 1,
   "metadata": {},
   "outputs": [
    {
     "name": "stderr",
     "output_type": "stream",
     "text": [
      "Using TensorFlow backend.\n"
     ]
    }
   ],
   "source": [
    "# coding: utf-8\n",
    "import warnings\n",
    "warnings.filterwarnings('ignore')\n",
    "import time\n",
    "import os\n",
    "import numpy as np\n",
    "import keras\n",
    "from keras import metrics\n",
    "from keras.utils import to_categorical\n",
    "from keras.models import load_model\n",
    "from keras.preprocessing.text import Tokenizer\n",
    "from keras.preprocessing.sequence import pad_sequences\n",
    "from keras.models import Sequential\n",
    "from keras.layers import Dense, Input, Dropout, Flatten, Conv2D, Conv1D, MaxPooling1D, MaxPooling2D,Activation\n",
    "from keras.layers import Reshape, Flatten, Dropout, Concatenate\n",
    "from keras.layers.embeddings import Embedding\n",
    "from datetime import datetime\n",
    "from gensim.models import word2vec\n",
    "from collections import *\n",
    "import pandas as pd"
   ]
  },
  {
   "cell_type": "code",
   "execution_count": 2,
   "metadata": {},
   "outputs": [],
   "source": [
    "#idenity paramaters\n",
    "word_vec_len = 256"
   ]
  },
  {
   "cell_type": "code",
   "execution_count": 3,
   "metadata": {},
   "outputs": [],
   "source": [
    "# get data\n",
    "# get texts data\n",
    "category2idx = {'AllTogether': 0, 'Baseball': 1, 'Boy-Girl': 2, 'C_chat':  3, 'CVS': 4,\n",
    "                  'GameSale': 5, 'GetMarry': 6, 'Lifeismoney': 7, 'LoL': 8, 'MH': 9, 'MLB': 10, 'Mobilecomm': 11, \n",
    "                'movie': 12,'MuscleBeach':  13, 'NBA': 14,  'SENIORHIGH': 15, 'Stock': 16, \n",
    "                'Tennis': 17, 'Tos': 18, 'WomenTalk': 19}\n",
    "\n",
    "train_df_sample = pd.read_pickle('train.pkl').sample(frac=1, random_state=123)"
   ]
  },
  {
   "cell_type": "code",
   "execution_count": 4,
   "metadata": {},
   "outputs": [],
   "source": [
    "# print(type(train_df_sample), len(train_df_sample))\n",
    "# print(train_df_sample.label)"
   ]
  },
  {
   "cell_type": "code",
   "execution_count": 5,
   "metadata": {},
   "outputs": [],
   "source": [
    "train_texts = train_df_sample.values\n",
    "label_list = train_df_sample.label\n",
    "\n",
    "test_pickle_df = pd.read_pickle('test.pkl')\n",
    "test_texts = test_pickle_df[\"text\"].values\n",
    "# print(len(test_texts), test_texts[0]) "
   ]
  },
  {
   "cell_type": "code",
   "execution_count": 6,
   "metadata": {},
   "outputs": [],
   "source": [
    "train_texts_list = []\n",
    "for text in train_texts:\n",
    "    train_texts_list.append(text[0])\n",
    "# print(len(train_texts_list), train_texts_list[0])"
   ]
  },
  {
   "cell_type": "code",
   "execution_count": 7,
   "metadata": {},
   "outputs": [],
   "source": [
    "# get word embedding vector\n",
    "answer = word2vec.Word2Vec.load(\"word2vec_20180430.model\")\n",
    "word_vectors = answer.wv\n",
    "wvv = word_vectors.vocab\n",
    "wvv_keys = wvv.keys()\n",
    "wvv_keys_list = list(wvv_keys)"
   ]
  },
  {
   "cell_type": "code",
   "execution_count": 8,
   "metadata": {},
   "outputs": [
    {
     "name": "stdout",
     "output_type": "stream",
     "text": [
      "87783 87783\n"
     ]
    }
   ],
   "source": [
    "print(len(wvv), len(wvv_keys_list))"
   ]
  },
  {
   "cell_type": "code",
   "execution_count": 9,
   "metadata": {},
   "outputs": [],
   "source": [
    "texts_list = []\n",
    "for text in train_texts_list:\n",
    "#     print(text)\n",
    "    texts_list.append(text)\n",
    "    \n",
    "for text in test_texts:\n",
    "    texts_list.append(text)"
   ]
  },
  {
   "cell_type": "code",
   "execution_count": 10,
   "metadata": {},
   "outputs": [
    {
     "name": "stdout",
     "output_type": "stream",
     "text": [
      "<class 'list'> 40000\n"
     ]
    }
   ],
   "source": [
    "print(type(texts_list), len(texts_list))\n",
    "# print(label_list[0:10])"
   ]
  },
  {
   "cell_type": "code",
   "execution_count": 11,
   "metadata": {},
   "outputs": [],
   "source": [
    "del word_vectors, wvv, train_texts_list\n",
    "# print(texts_list[0], \"\\n\")\n",
    "# print(texts_list[1], \"\\n\")\n",
    "# print(texts_list[2], \"\\n\")"
   ]
  },
  {
   "cell_type": "code",
   "execution_count": 12,
   "metadata": {},
   "outputs": [
    {
     "name": "stdout",
     "output_type": "stream",
     "text": [
      "Found 571338 unique tokens\n"
     ]
    }
   ],
   "source": [
    "%%time\n",
    "tokenizer1 = Tokenizer(num_words = 20000)\n",
    "tokenizer1.fit_on_texts(texts_list)\n",
    "sequences = tokenizer1.texts_to_sequences(texts_list)  # word index list\n",
    "max_doc_word_length = 200\n",
    "sequences1 = pad_sequences(sequences, maxlen=max_doc_word_length, padding='post')\n",
    "\n",
    "print(\"Found %s unique tokens\" % len(tokenizer1.word_index))"
   ]
  },
  {
   "cell_type": "code",
   "execution_count": 13,
   "metadata": {},
   "outputs": [
    {
     "name": "stdout",
     "output_type": "stream",
     "text": [
      "571338 5619 571338\n",
      "19991\n",
      "19991\n",
      "CPU times: user 4.28 s, sys: 49.5 ms, total: 4.33 s\n",
      "Wall time: 4.33 s\n"
     ]
    }
   ],
   "source": [
    "%%time\n",
    "word_index = tokenizer1.word_index\n",
    "word_counts = tokenizer1.word_counts\n",
    "print(len(word_index), word_index[\"巧合\"], len(word_counts))\n",
    "num_words = max(max(sequences))\n",
    "print(num_words)\n",
    "\n",
    "word_index_keys_list = list(word_index.keys())\n",
    "word_index_values_list = list(word_index.values())\n",
    "    \n",
    "\n",
    "docs_index = tokenizer1.texts_to_sequences(texts_list)\n",
    "print(num_words)\n",
    "\n",
    "\n",
    "# real_word_index = np.zeros((1, num_words))\n",
    "# real_word_index = dict()\n",
    "# print(type(real_word_index))\n",
    "\n",
    "# ss = 0\n",
    "# for doc_index in docs_index:\n",
    "#     print(ss)\n",
    "#     for words_index in doc_index:\n",
    "#         key_v = word_index_keys_list[word_index_values_list.index(words_index)]\n",
    "# #         print(words_index, word_index_keys_list[word_index_values_list.index(words_index)])\n",
    "# #         if  key_v in real_word_index.keys():\n",
    "#         if word_counts[key_v] < 19992:\n",
    "#             real_word_index[key_v] = words_index\n",
    "#     ss += 1\n",
    "# print(real_word_index.shape)\n",
    "# print( max(docs_index) ) #得到词索引\n",
    "# print(max(sequences), sequences[1])"
   ]
  },
  {
   "cell_type": "code",
   "execution_count": 14,
   "metadata": {},
   "outputs": [],
   "source": [
    "# sslist = list(word_index)\n",
    "# print(sslist[19989:20000])"
   ]
  },
  {
   "cell_type": "code",
   "execution_count": 15,
   "metadata": {},
   "outputs": [],
   "source": [
    "# key_v = word_index_keys_list[word_index_values_list.index(19989)]\n",
    "# print(key_v, word_counts[key_v])\n",
    "\n",
    "# key_v = word_index_keys_list[word_index_values_list.index(19991)]\n",
    "# print(key_v, word_counts[key_v])\n",
    "# print(word_index.get(\"再練\"))"
   ]
  },
  {
   "cell_type": "code",
   "execution_count": 17,
   "metadata": {},
   "outputs": [],
   "source": [
    "# print(type(tokenizer1.word_index) , len(tokenizer1.word_index)) \n",
    "# print(len(sequences1), tokenizer1.num_words) \n",
    "# # print(tokenizer1.word_index)\n",
    "# ss = 0\n",
    "# for k in tokenizer1.word_docs:\n",
    "#     if tokenizer1.word_docs[k] > 100:\n",
    "#         print(k, tokenizer1.word_docs[k])\n",
    "#         ss += 1\n",
    "# print(ss)"
   ]
  },
  {
   "cell_type": "code",
   "execution_count": 18,
   "metadata": {},
   "outputs": [],
   "source": [
    "# ss = 0\n",
    "# for k in tokenizer1.word_docs:\n",
    "#     if tokenizer1.word_docs[k] < 3 :\n",
    "# #         print(k, tokenizer1.word_docs[k])\n",
    "#         del word_index[k]\n",
    "#         ss += 1\n",
    "# print(ss)"
   ]
  },
  {
   "cell_type": "code",
   "execution_count": 21,
   "metadata": {},
   "outputs": [
    {
     "name": "stdout",
     "output_type": "stream",
     "text": [
      "20001 256\n",
      "CPU times: user 450 ms, sys: 11.9 ms, total: 462 ms\n",
      "Wall time: 461 ms\n"
     ]
    }
   ],
   "source": [
    "%%time\n",
    "# user 46min 33s,\n",
    "vocab_size = 20000 + 1\n",
    "# vocab_size = len(word_index) + 1\n",
    "print(vocab_size, word_vec_len)\n",
    "# create a weight matrix for wordds in training docs\n",
    "embedding_matrix = np.zeros((vocab_size, word_vec_len))\n",
    "ss = 0\n",
    "\n",
    "for word, i in word_index.items():\n",
    "    if ss < 20000:\n",
    "        if i < 20000:\n",
    "            embedding_vector = answer[word]\n",
    "            embedding_matrix[i] = embedding_vector\n",
    "    else:\n",
    "        break\n",
    "#         embedding_matrix[i] = np.zeros((1, word_vec_len))   "
   ]
  },
  {
   "cell_type": "code",
   "execution_count": 22,
   "metadata": {},
   "outputs": [],
   "source": [
    "# del answer"
   ]
  },
  {
   "cell_type": "code",
   "execution_count": 23,
   "metadata": {},
   "outputs": [
    {
     "name": "stdout",
     "output_type": "stream",
     "text": [
      "(20001, 256) 256\n"
     ]
    }
   ],
   "source": [
    "# # network model\n",
    "print(embedding_matrix.shape, len(embedding_matrix[10]))\n",
    "# (571339, 256) 256"
   ]
  },
  {
   "cell_type": "code",
   "execution_count": 24,
   "metadata": {},
   "outputs": [
    {
     "name": "stdout",
     "output_type": "stream",
     "text": [
      "WARNING:tensorflow:From /usr/local/lib/python3.5/dist-packages/tensorflow/python/util/deprecation.py:497: calling conv1d (from tensorflow.python.ops.nn_ops) with data_format=NHWC is deprecated and will be removed in a future version.\n",
      "Instructions for updating:\n",
      "`NHWC` for data_format is deprecated, use `NWC` instead\n",
      "_________________________________________________________________\n",
      "Layer (type)                 Output Shape              Param #   \n",
      "=================================================================\n",
      "embedding_1 (Embedding)      (None, 200, 256)          5120256   \n",
      "_________________________________________________________________\n",
      "conv1d_1 (Conv1D)            (None, 200, 256)          196864    \n",
      "_________________________________________________________________\n",
      "flatten_1 (Flatten)          (None, 51200)             0         \n",
      "_________________________________________________________________\n",
      "dense_1 (Dense)              (None, 2)                 102402    \n",
      "=================================================================\n",
      "Total params: 5,419,522\n",
      "Trainable params: 299,266\n",
      "Non-trainable params: 5,120,256\n",
      "_________________________________________________________________\n"
     ]
    }
   ],
   "source": [
    "# image_width = 250\n",
    "# image_height = 3\n",
    "# input_channel = 1\n",
    "\n",
    "embedding_layer = Embedding(\n",
    "                            input_dim= embedding_matrix.shape[0],\n",
    "                            output_dim= 256,\n",
    "                            weights=[embedding_matrix], \n",
    "                            input_length = 200,\n",
    "                            trainable=False)\n",
    "# model = getModel(embedding_layer, image_width, image_height, input_channel)\n",
    "model = Sequential()\n",
    "model.add(embedding_layer )\n",
    "# model.add(Reshape(4, 2))\n",
    "# conv2D = \n",
    "# model.add(Conv1D(64, 3, \n",
    "#             border_mode='same',\n",
    "#             input_shape=(3, 256)))\n",
    "# model.output_shape == (None, 64, 32, 32)\n",
    "\n",
    "# model.add(Flatten())\n",
    "model.add(Conv1D(256, 3,\n",
    "#                 filters=(9), \n",
    "#                 kernel_size = (256),\n",
    "                padding = 'same', \n",
    "#                  input_shape=(9, 32, 32),\n",
    "#                  input_shape=(10, 32)\n",
    "                )\n",
    "         )\n",
    "# model.add(MaxPooling1D(pool_size=2))    \n",
    "model.add(Flatten())\n",
    "model.add(Dense(2, activation='relu'))\n",
    "# early_stopping = keras.callbacks.EarlyStopping(monitor='val_loss', min_delta=0.00001, patience=0, verbose=0, mode='auto')\n",
    "model.compile(optimizer='sgd',loss='mean_squared_error')\n",
    "model.summary()"
   ]
  },
  {
   "cell_type": "code",
   "execution_count": 25,
   "metadata": {},
   "outputs": [
    {
     "name": "stdout",
     "output_type": "stream",
     "text": [
      "(40000, 200) (36000,) ['11', '0']\n",
      "(36000, 2)\n"
     ]
    }
   ],
   "source": [
    "# sequences2 = np.reshape(sequences1,(2, 20000, 200)) \n",
    "print(sequences1.shape, label_list.shape, label_list[0])\n",
    "\n",
    "Y_label_list = np.zeros((36000, 2))\n",
    "for ids in range(0, 36000):\n",
    "    Y_label_list[ids][0] = label_list[ids][0]\n",
    "    Y_label_list[ids][1] = label_list[ids][1]\n",
    "print(Y_label_list.shape)"
   ]
  },
  {
   "cell_type": "code",
   "execution_count": 26,
   "metadata": {},
   "outputs": [],
   "source": [
    "# Y_label_list[:10]"
   ]
  },
  {
   "cell_type": "code",
   "execution_count": null,
   "metadata": {},
   "outputs": [
    {
     "name": "stdout",
     "output_type": "stream",
     "text": [
      "Epoch 1/100\n"
     ]
    }
   ],
   "source": [
    "history = model.fit(x = sequences1[0:36000], \n",
    "                    y = Y_label_list, \n",
    "#                     validation_split=0.1, \n",
    "                    batch_size= 18000,\n",
    "                    epochs = 100, verbose = 1)"
   ]
  },
  {
   "cell_type": "code",
   "execution_count": null,
   "metadata": {},
   "outputs": [],
   "source": [
    "# model.save('my_model.h5') "
   ]
  },
  {
   "cell_type": "code",
   "execution_count": null,
   "metadata": {},
   "outputs": [],
   "source": [
    "# evaluate the model\n",
    "loss_accuracy = model.evaluate(sequences1[0:100], label_list[0:100], verbose=1)\n",
    "print(type(loss_accuracy), loss_accuracy)"
   ]
  },
  {
   "cell_type": "code",
   "execution_count": null,
   "metadata": {},
   "outputs": [],
   "source": [
    "test_sequences1 = sequences1[9000:10000]\n",
    "\n",
    "print(len(sequences1))\n",
    "print(len(test_sequences1))"
   ]
  },
  {
   "cell_type": "code",
   "execution_count": null,
   "metadata": {},
   "outputs": [],
   "source": [
    "predict_res = model.predict(test_sequences1, batch_size= 32, verbose=0)\n",
    "print(len(predict_res), predict_res)\n",
    "\n",
    "final_res = []\n",
    "for pre_res in predict_res:\n",
    "    final_res.append(np.argmax(pre_res))\n",
    "print(final_res)"
   ]
  },
  {
   "cell_type": "code",
   "execution_count": null,
   "metadata": {},
   "outputs": [],
   "source": [
    "# result_txt = \"result\" + str(datetime.now()).split()[1] + \".txt\"\n",
    "print(len(final_res))\n",
    "result_txt = \"server_result001\" + \".txt\"\n",
    "ids = 0\n",
    "with open(result_txt, 'w') as out:\n",
    "    out.write(\"id,category\" + '\\n')\n",
    "    for value in final_res:\n",
    "        out.write(str(ids) + \",\" + str(value) + '\\n')\n",
    "        ids += 1"
   ]
  }
 ],
 "metadata": {
  "kernelspec": {
   "display_name": "Python 3",
   "language": "python",
   "name": "python3"
  },
  "language_info": {
   "codemirror_mode": {
    "name": "ipython",
    "version": 3
   },
   "file_extension": ".py",
   "mimetype": "text/x-python",
   "name": "python",
   "nbconvert_exporter": "python",
   "pygments_lexer": "ipython3",
   "version": "3.5.2"
  }
 },
 "nbformat": 4,
 "nbformat_minor": 2
}
