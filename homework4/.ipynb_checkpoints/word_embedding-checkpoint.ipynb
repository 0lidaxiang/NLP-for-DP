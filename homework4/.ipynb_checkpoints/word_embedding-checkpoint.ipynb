{
 "cells": [
  {
   "cell_type": "code",
   "execution_count": 5,
   "metadata": {},
   "outputs": [
    {
     "name": "stdout",
     "output_type": "stream",
     "text": [
      "CPU times: user 4min 43s, sys: 1.54 s, total: 4min 45s\n",
      "Wall time: 1min 49s\n"
     ]
    }
   ],
   "source": [
    "%%time\n",
    "import pandas as pd\n",
    "from gensim.models.word2vec import Word2Vec\n",
    "\n",
    "train_df = pd.read_pickle(\"./train.pkl\")\n",
    "test_df = pd.read_pickle(\"./test.pkl\")\n",
    "train_df.head()\n",
    "\n",
    "corpus = pd.concat([train_df.text, test_df.text]).sample(frac=1)\n",
    "corpus.head()\n",
    "\n",
    "model = Word2Vec(corpus, size=250, iter= 8, workers=3, min_count=5, negative=3, max_vocab_size=None, window=5)\n",
    "\n",
    "model_file_name = 'word2vec_20180430.model'\n",
    "model.save(model_file_name)\n",
    "model = Word2Vec.load(model_file_name)"
   ]
  },
  {
   "cell_type": "code",
   "execution_count": 7,
   "metadata": {},
   "outputs": [
    {
     "name": "stdout",
     "output_type": "stream",
     "text": [
      "日本\n",
      "相似詞前 100 排序:\n",
      "台灣 , 0.6282010078430176\n",
      "劇名 , 0.6131912469863892\n",
      "核災 , 0.5751134157180786\n",
      "福島 , 0.5651991367340088\n",
      "韓國 , 0.5634691119194031\n",
      "中國人 , 0.5620283484458923\n",
      "原裝 , 0.5559468269348145\n",
      "昔 , 0.5504197478294373\n",
      "月刊 , 0.5449141263961792\n",
      "本土 , 0.5426421761512756\n",
      "\r\n",
      "\n",
      "\n",
      "日本 台灣 :  0.6282009871196224\n"
     ]
    },
    {
     "name": "stderr",
     "output_type": "stream",
     "text": [
      "/usr/local/lib/python3.5/dist-packages/ipykernel_launcher.py:1: DeprecationWarning: Call to deprecated `most_similar` (Method will be removed in 4.0.0, use self.wv.most_similar() instead).\n",
      "  \"\"\"Entry point for launching an IPython kernel.\n",
      "/usr/local/lib/python3.5/dist-packages/ipykernel_launcher.py:11: DeprecationWarning: Call to deprecated `similarity` (Method will be removed in 4.0.0, use self.wv.similarity() instead).\n",
      "  # This is added back by InteractiveShellApp.init_path()\n"
     ]
    }
   ],
   "source": [
    "res = model.most_similar(\"日本\", topn=10)\n",
    "\n",
    "print(\"日本\")\n",
    "print(\"相似詞前 100 排序:\")\n",
    "\n",
    "for v in res:\n",
    "    print(v[0], \",\", v[1])\n",
    "\n",
    "print('\\r\\n\\n')\n",
    "\n",
    "res1 = model.similarity('日本', '台灣')\n",
    "print('日本', '台灣 : ', res1)"
   ]
  },
  {
   "cell_type": "code",
   "execution_count": null,
   "metadata": {},
   "outputs": [],
   "source": []
  }
 ],
 "metadata": {
  "kernelspec": {
   "display_name": "Python 3",
   "language": "python",
   "name": "python3"
  },
  "language_info": {
   "codemirror_mode": {
    "name": "ipython",
    "version": 3
   },
   "file_extension": ".py",
   "mimetype": "text/x-python",
   "name": "python",
   "nbconvert_exporter": "python",
   "pygments_lexer": "ipython3",
   "version": "3.5.2"
  }
 },
 "nbformat": 4,
 "nbformat_minor": 2
}
