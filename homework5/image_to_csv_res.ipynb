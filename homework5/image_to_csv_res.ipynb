{
 "cells": [
  {
   "cell_type": "code",
   "execution_count": null,
   "metadata": {},
   "outputs": [],
   "source": [
    "import os\n",
    "os.environ[\"CUDA_VISIBLE_DEVICES\"]='-1'\n",
    "import glob\n",
    "import numpy as np\n",
    "import pandas as pd\n",
    "from scipy.misc.pilutil import imread,imresize,imsave\n",
    "from keras.models import load_model\n",
    "\n",
    "def generator_test_Img(list_dir,resize):\n",
    "    output_training_img=[]\n",
    "    for i in list_dir:\n",
    "        img = imread(i,mode='L')\n",
    "        img = imresize(img,resize)\n",
    "        output_training_img.append(img)\n",
    "    output_training_img = np.array(output_training_img)/127.5-1\n",
    "    output_training_img = np.expand_dims(output_training_img,axis=1) # (batch,img_row,img_col) ==> (batch,1,img_row,img_cok)\n",
    "    return output_training_img\n",
    "\n",
    "def numpy_to_csv(input_image,image_number=10,save_csv_name='predict.csv'):\n",
    "    save_image=np.zeros([int(input_image.size/image_number),image_number],dtype=np.float32)\n",
    "\n",
    "    for image_index in range(image_number):\n",
    "        save_image[:,image_index]=input_image[image_index,:,:].flatten()\n",
    "\n",
    "    base_word='id'\n",
    "    df = pd.DataFrame(save_image)\n",
    "    index_col=[]\n",
    "    for i in range(n):\n",
    "        col_word=base_word+str(i)\n",
    "        index_col.append(col_word)\n",
    "    df.index.name='index'\n",
    "    df.columns=index_col\n",
    "    df.to_csv(save_csv_name)\n",
    "    print(\"Okay! numpy_to_csv\")\n",
    "\n",
    "\n",
    "test_data_dir='.\\NLP_data\\Test\\White\\*' \n",
    "test_data_dir_list=glob.glob(test_data_dir)\n",
    "test_data_list=[]\n",
    "test_data_list.extend(test_data_dir_list)\n",
    "\n",
    "n=10\n",
    "output_img_col = output_img_row=128\n",
    "white_img = generator_test_Img(list_dir=test_data_list,resize=(output_img_col,output_img_row))\n",
    "#這邊的G就是Example Code的G拉\n",
    "#只是怕放在最下面會搞亂大家 所以分別寫出來\n",
    "image_array = G.predict(white_img).squeeze(1)     #Predict出來是 (n,1,img_row,img_col) 只是做Reshape為(n,img_row,img_col)\n",
    "image_array = (image_array+1)/2                   #這邊很重要 因為答案是0~1的灰階值 \n",
    "                                                  #然而如果你Generator輸出是tanh 會介於-1~1之間，須把他變成0~1 ==> ((-1~1)+1)/2=(0~1)\n",
    "                                                  #當然如果你是Sigmoid輸出，就不用作Rescale的動作\n",
    "\n",
    "\n",
    "print(image_array.shape)                          #預期是(n,img_row,img_col) 如果不是 可能會轉換不出來，或是跟答案沒對上\n",
    "\n",
    "numpy_to_csv(input_image=image_array,image_number=n,save_csv_name='Predict.csv')"
   ]
  }
 ],
 "metadata": {
  "kernelspec": {
   "display_name": "Python 3",
   "language": "python",
   "name": "python3"
  },
  "language_info": {
   "codemirror_mode": {
    "name": "ipython",
    "version": 3
   },
   "file_extension": ".py",
   "mimetype": "text/x-python",
   "name": "python",
   "nbconvert_exporter": "python",
   "pygments_lexer": "ipython3",
   "version": "3.5.2"
  }
 },
 "nbformat": 4,
 "nbformat_minor": 2
}
