{
 "cells": [
  {
   "cell_type": "code",
   "execution_count": 1,
   "metadata": {},
   "outputs": [],
   "source": [
    "import warnings\n",
    "warnings.filterwarnings('ignore')"
   ]
  },
  {
   "cell_type": "code",
   "execution_count": 2,
   "metadata": {},
   "outputs": [
    {
     "name": "stderr",
     "output_type": "stream",
     "text": [
      "Using TensorFlow backend.\n"
     ]
    }
   ],
   "source": [
    "#!/usr/bin/python3\n",
    "# -*- coding: UTF-8 -*-\n",
    "import time\n",
    "from keras import metrics\n",
    "import os\n",
    "import numpy as np\n",
    "import keras\n",
    "from keras.models import load_model\n",
    "from keras.preprocessing.text import Tokenizer\n",
    "from keras.preprocessing.sequence import pad_sequences\n",
    "from keras.models import Sequential\n",
    "from keras.layers import Dense, Dropout, Flatten, SimpleRNN,Activation\n",
    "from keras.layers.embeddings import Embedding\n",
    "from datetime import datetime\n",
    "from gensim.models import word2vec\n",
    "import pandas as pd"
   ]
  },
  {
   "cell_type": "code",
   "execution_count": 5,
   "metadata": {},
   "outputs": [],
   "source": [
    "# get texts data\n",
    "TRAINING_PATH = './data/training/'\n",
    "TESTING_PATH = './data/testing/'\n",
    "\n",
    "categories = [dirname for dirname in os.listdir(TRAINING_PATH) if dirname[-4:] != '_cut']\n",
    "# print(len(categories), str(categories))\n",
    "\n",
    "category2idx = {'Japan_Travel': 0, 'KR_ENTERTAIN': 1, 'Makeup': 2, 'Tech_Job':  3, 'WomenTalk': 4,\n",
    "                  'babymother': 5, 'e-shopping': 6, 'graduate': 7, 'joke': 8, 'movie': 9}\n",
    "\n",
    "train_pickle_df = pd.read_pickle('train.pkl')\n",
    "train_texts = train_pickle_df[\"text\"].values\n",
    "train_labels = train_pickle_df[\"category\"]\n",
    "# print(len(train_texts), train_texts[0], train_labels[0])   \n",
    "\n",
    "test_pickle_df = pd.read_pickle('test.pkl')\n",
    "test_texts = test_pickle_df[\"text\"].values\n",
    "# print(len(test_texts), test_texts[0]) "
   ]
  },
  {
   "cell_type": "code",
   "execution_count": 31,
   "metadata": {},
   "outputs": [],
   "source": [
    "# # process some data\n",
    "train_labels_list = list(train_labels)\n",
    "# print(type(train_labels_list), len(train_labels_list), train_labels_list[0])\n",
    "embedding_matrix_len = len(train_labels_list)\n",
    "\n",
    "label_id = 0\n",
    "label_list = np.zeros((embedding_matrix_len, 10))\n",
    "for label_val in train_labels_list:\n",
    "    label_list[label_id][label_val] = 1\n",
    "    label_id += 1\n",
    "# print(len(label_list), label_list[0])"
   ]
  },
  {
   "cell_type": "code",
   "execution_count": 7,
   "metadata": {},
   "outputs": [],
   "source": [
    "# get word embedding vector\n",
    "answer = word2vec.Word2Vec.load(\"word2vec1.model\")\n",
    "# print(type(answer))\n",
    "word_vectors = answer.wv\n",
    "wvv = word_vectors.vocab\n",
    "wvv_keys = wvv.keys()\n",
    "wvv_keys_list = list(wvv_keys)\n",
    "# print(wvv_keys_list[:10]) #['櫻花林', '好比', '考科', '床上', '一點現', '記住', '寶寶的', '柔嫩', '不規則', '朴智妍']"
   ]
  },
  {
   "cell_type": "code",
   "execution_count": 8,
   "metadata": {},
   "outputs": [
    {
     "name": "stdout",
     "output_type": "stream",
     "text": [
      "Found 232236 unique tokens\n"
     ]
    }
   ],
   "source": [
    "tokenizer = Tokenizer()\n",
    "tokenizer.fit_on_texts(train_texts)\n",
    "sequences = tokenizer.texts_to_sequences(train_texts)\n",
    "max_doc_word_length = max(len(l) for l in train_texts)\n",
    "sequences1 = pad_sequences(sequences, maxlen=max_doc_word_length, padding='post')\n",
    "word_index = tokenizer.word_index\n",
    "print(\"Found %s unique tokens\" % len(word_index))\n",
    "# data = pad_sequences(sequences)\n",
    "# print(\"Shape of data tensor:\" , data.shape)"
   ]
  },
  {
   "cell_type": "code",
   "execution_count": 10,
   "metadata": {},
   "outputs": [],
   "source": [
    "vocab_size = len(word_index) + 1\n",
    "# create a weight matrix for words in training docs\n",
    "embedding_matrix = np.zeros((vocab_size, 250))\n",
    "for word, i in word_index.items():\n",
    "    if word in wvv_keys_list:\n",
    "        embedding_vector = answer[word]\n",
    "        if embedding_vector is not None:\n",
    "            embedding_matrix[i] = embedding_vector"
   ]
  },
  {
   "cell_type": "code",
   "execution_count": 11,
   "metadata": {},
   "outputs": [
    {
     "name": "stdout",
     "output_type": "stream",
     "text": [
      "_________________________________________________________________\n",
      "Layer (type)                 Output Shape              Param #   \n",
      "=================================================================\n",
      "embedding_1 (Embedding)      (None, 3971, 250)         58059250  \n",
      "_________________________________________________________________\n",
      "simple_rnn_1 (SimpleRNN)     (None, 50)                15050     \n",
      "_________________________________________________________________\n",
      "dense_1 (Dense)              (None, 10)                510       \n",
      "_________________________________________________________________\n",
      "activation_1 (Activation)    (None, 10)                0         \n",
      "=================================================================\n",
      "Total params: 58,074,810\n",
      "Trainable params: 15,560\n",
      "Non-trainable params: 58,059,250\n",
      "_________________________________________________________________\n"
     ]
    }
   ],
   "source": [
    "# input_dim = 400\n",
    "# output_dim = 100\n",
    "# del answer\n",
    "embedding_layer = Embedding(vocab_size, 250, \n",
    "                            weights=[embedding_matrix], \n",
    "                            input_length= max_doc_word_length, \n",
    "                            trainable=False)\n",
    "model = Sequential()\n",
    "model.add(embedding_layer)\n",
    "\n",
    "model.add(SimpleRNN(input_dim = 250, output_dim = 50, unroll=True))\n",
    "nb_classes = 10\n",
    "model.add(Dense( nb_classes, input_dim = 3971))\n",
    "model.add(Activation('softmax'))\n",
    "# early_stopping = keras.callbacks.EarlyStopping(monitor='val_loss', min_delta=0.00001, patience=0, verbose=0, mode='auto')\n",
    "model.compile(optimizer='adam',loss='categorical_crossentropy',  metrics=[\"acc\"])\n",
    "model.summary()"
   ]
  },
  {
   "cell_type": "code",
   "execution_count": 56,
   "metadata": {},
   "outputs": [
    {
     "name": "stdout",
     "output_type": "stream",
     "text": [
      "Train on 8100 samples, validate on 900 samples\n",
      "Epoch 1/50\n",
      "8100/8100 [==============================] - 193s 24ms/step - loss: 2.1902 - acc: 0.1347 - val_loss: 7.9779 - val_acc: 0.0000e+00\n",
      "Epoch 2/50\n",
      "8100/8100 [==============================] - 192s 24ms/step - loss: 2.1898 - acc: 0.1284 - val_loss: 8.0467 - val_acc: 0.0000e+00\n",
      "Epoch 3/50\n",
      "8100/8100 [==============================] - 189s 23ms/step - loss: 2.1905 - acc: 0.1281 - val_loss: 8.0463 - val_acc: 0.0000e+00\n",
      "Epoch 4/50\n",
      "8100/8100 [==============================] - 189s 23ms/step - loss: 2.1897 - acc: 0.1348 - val_loss: 8.0797 - val_acc: 0.0000e+00\n",
      "Epoch 5/50\n",
      "8100/8100 [==============================] - 189s 23ms/step - loss: 2.1898 - acc: 0.1322 - val_loss: 8.1386 - val_acc: 0.0000e+00\n",
      "Epoch 6/50\n",
      "8100/8100 [==============================] - 189s 23ms/step - loss: 2.1896 - acc: 0.1327 - val_loss: 8.1473 - val_acc: 0.0000e+00\n",
      "Epoch 7/50\n",
      "8100/8100 [==============================] - 189s 23ms/step - loss: 2.1904 - acc: 0.1348 - val_loss: 8.1549 - val_acc: 0.0000e+00\n",
      "Epoch 8/50\n",
      "8100/8100 [==============================] - 201s 25ms/step - loss: 2.1905 - acc: 0.1240 - val_loss: 8.2425 - val_acc: 0.0000e+00\n",
      "Epoch 9/50\n",
      "8100/8100 [==============================] - 203s 25ms/step - loss: 2.1894 - acc: 0.1360 - val_loss: 8.2447 - val_acc: 0.0000e+00\n",
      "Epoch 10/50\n",
      "8100/8100 [==============================] - 205s 25ms/step - loss: 2.1891 - acc: 0.1384 - val_loss: 8.2799 - val_acc: 0.0000e+00\n",
      "Epoch 11/50\n",
      "8100/8100 [==============================] - 195s 24ms/step - loss: 2.1898 - acc: 0.1312 - val_loss: 8.3293 - val_acc: 0.0000e+00\n",
      "Epoch 12/50\n",
      "8100/8100 [==============================] - 195s 24ms/step - loss: 2.1893 - acc: 0.1317 - val_loss: 8.3833 - val_acc: 0.0000e+00\n",
      "Epoch 13/50\n",
      "8100/8100 [==============================] - 190s 23ms/step - loss: 2.1895 - acc: 0.1363 - val_loss: 8.3907 - val_acc: 0.0000e+00\n",
      "Epoch 14/50\n",
      "8100/8100 [==============================] - 192s 24ms/step - loss: 2.1884 - acc: 0.1326 - val_loss: 8.4419 - val_acc: 0.0000e+00\n",
      "Epoch 15/50\n",
      "8100/8100 [==============================] - 192s 24ms/step - loss: 2.1910 - acc: 0.1348 - val_loss: 8.4979 - val_acc: 0.0000e+00\n",
      "Epoch 16/50\n",
      "8100/8100 [==============================] - 193s 24ms/step - loss: 2.1885 - acc: 0.1370 - val_loss: 8.5092 - val_acc: 0.0000e+00\n",
      "Epoch 17/50\n",
      "8100/8100 [==============================] - 214s 26ms/step - loss: 2.1904 - acc: 0.1304 - val_loss: 8.5532 - val_acc: 0.0000e+00\n",
      "Epoch 18/50\n",
      "8100/8100 [==============================] - 223s 28ms/step - loss: 2.1902 - acc: 0.1330 - val_loss: 8.5567 - val_acc: 0.0000e+00\n",
      "Epoch 19/50\n",
      "8100/8100 [==============================] - 210s 26ms/step - loss: 2.1903 - acc: 0.1319 - val_loss: 8.5812 - val_acc: 0.0000e+00\n",
      "Epoch 20/50\n",
      "8100/8100 [==============================] - 227s 28ms/step - loss: 2.1890 - acc: 0.1316 - val_loss: 8.5848 - val_acc: 0.0000e+00\n",
      "Epoch 21/50\n",
      "8100/8100 [==============================] - 210s 26ms/step - loss: 2.1900 - acc: 0.1353 - val_loss: 8.6512 - val_acc: 0.0000e+00\n",
      "Epoch 22/50\n",
      "8100/8100 [==============================] - 197s 24ms/step - loss: 2.1887 - acc: 0.1357 - val_loss: 8.6731 - val_acc: 0.0000e+00\n",
      "Epoch 23/50\n",
      "8100/8100 [==============================] - 194s 24ms/step - loss: 2.1897 - acc: 0.1341 - val_loss: 8.7319 - val_acc: 0.0000e+00\n",
      "Epoch 24/50\n",
      "8100/8100 [==============================] - 195s 24ms/step - loss: 2.1905 - acc: 0.1328 - val_loss: 8.7835 - val_acc: 0.0000e+00\n",
      "Epoch 25/50\n",
      "8100/8100 [==============================] - 194s 24ms/step - loss: 2.1909 - acc: 0.1338 - val_loss: 8.8005 - val_acc: 0.0000e+00\n",
      "Epoch 26/50\n",
      "8100/8100 [==============================] - 194s 24ms/step - loss: 2.1905 - acc: 0.1342 - val_loss: 8.8303 - val_acc: 0.0000e+00\n",
      "Epoch 27/50\n",
      "8100/8100 [==============================] - 191s 24ms/step - loss: 2.1900 - acc: 0.1336 - val_loss: 8.8397 - val_acc: 0.0000e+00\n",
      "Epoch 28/50\n",
      "8100/8100 [==============================] - 195s 24ms/step - loss: 2.1905 - acc: 0.1304 - val_loss: 8.8789 - val_acc: 0.0000e+00\n",
      "Epoch 29/50\n",
      "8100/8100 [==============================] - 191s 24ms/step - loss: 2.1901 - acc: 0.1357 - val_loss: 8.9362 - val_acc: 0.0000e+00\n",
      "Epoch 30/50\n",
      "8100/8100 [==============================] - 196s 24ms/step - loss: 2.1897 - acc: 0.1340 - val_loss: 8.9314 - val_acc: 0.0000e+00\n",
      "Epoch 31/50\n",
      "8100/8100 [==============================] - 208s 26ms/step - loss: 2.1912 - acc: 0.1319 - val_loss: 8.9717 - val_acc: 0.0000e+00\n",
      "Epoch 32/50\n",
      "8100/8100 [==============================] - 196s 24ms/step - loss: 2.1896 - acc: 0.1315 - val_loss: 8.9313 - val_acc: 0.0000e+00\n",
      "Epoch 33/50\n",
      "8100/8100 [==============================] - 221s 27ms/step - loss: 2.1902 - acc: 0.1319 - val_loss: 8.9510 - val_acc: 0.0000e+00\n",
      "Epoch 34/50\n",
      "8100/8100 [==============================] - 199s 25ms/step - loss: 2.1917 - acc: 0.1259 - val_loss: 9.0288 - val_acc: 0.0000e+00\n",
      "Epoch 35/50\n",
      "8100/8100 [==============================] - 195s 24ms/step - loss: 2.1902 - acc: 0.1328 - val_loss: 9.0991 - val_acc: 0.0000e+00\n",
      "Epoch 36/50\n",
      "8100/8100 [==============================] - 192s 24ms/step - loss: 2.1904 - acc: 0.1320 - val_loss: 9.1220 - val_acc: 0.0000e+00\n",
      "Epoch 37/50\n",
      "8100/8100 [==============================] - 189s 23ms/step - loss: 2.1890 - acc: 0.1326 - val_loss: 9.1480 - val_acc: 0.0000e+00\n",
      "Epoch 38/50\n",
      "8100/8100 [==============================] - 189s 23ms/step - loss: 2.1895 - acc: 0.1289 - val_loss: 9.1001 - val_acc: 0.0000e+00\n",
      "Epoch 39/50\n",
      "8100/8100 [==============================] - 197s 24ms/step - loss: 2.1905 - acc: 0.1384 - val_loss: 9.1353 - val_acc: 0.0000e+00\n",
      "Epoch 40/50\n",
      "8100/8100 [==============================] - 220s 27ms/step - loss: 2.1889 - acc: 0.1317 - val_loss: 9.1134 - val_acc: 0.0000e+00\n",
      "Epoch 41/50\n",
      "8100/8100 [==============================] - 205s 25ms/step - loss: 2.1901 - acc: 0.1337 - val_loss: 9.2127 - val_acc: 0.0000e+00\n",
      "Epoch 42/50\n",
      "8100/8100 [==============================] - 213s 26ms/step - loss: 2.1901 - acc: 0.1347 - val_loss: 9.2403 - val_acc: 0.0000e+00\n",
      "Epoch 43/50\n",
      "8100/8100 [==============================] - 206s 25ms/step - loss: 2.1900 - acc: 0.1369 - val_loss: 9.2447 - val_acc: 0.0000e+00\n",
      "Epoch 44/50\n",
      "8100/8100 [==============================] - 202s 25ms/step - loss: 2.1900 - acc: 0.1330 - val_loss: 9.2694 - val_acc: 0.0000e+00\n",
      "Epoch 45/50\n",
      "8100/8100 [==============================] - 193s 24ms/step - loss: 2.1898 - acc: 0.1416 - val_loss: 9.3411 - val_acc: 0.0000e+00\n",
      "Epoch 46/50\n",
      "8100/8100 [==============================] - 192s 24ms/step - loss: 2.1886 - acc: 0.1331 - val_loss: 9.3462 - val_acc: 0.0000e+00\n",
      "Epoch 47/50\n",
      "8100/8100 [==============================] - 209s 26ms/step - loss: 2.1885 - acc: 0.1356 - val_loss: 9.3996 - val_acc: 0.0000e+00\n",
      "Epoch 48/50\n",
      "8100/8100 [==============================] - 194s 24ms/step - loss: 2.1875 - acc: 0.1359 - val_loss: 9.4952 - val_acc: 0.0000e+00\n",
      "Epoch 49/50\n",
      "8100/8100 [==============================] - 192s 24ms/step - loss: 2.1891 - acc: 0.1390 - val_loss: 9.5305 - val_acc: 0.0000e+00\n",
      "Epoch 50/50\n",
      "8100/8100 [==============================] - 192s 24ms/step - loss: 2.1879 - acc: 0.1365 - val_loss: 9.4910 - val_acc: 0.0000e+00\n"
     ]
    }
   ],
   "source": [
    "history = model.fit(x = sequences1, y = label_list, \n",
    "                    validation_split=0.1, \n",
    "                    batch_size=150,\n",
    "                    epochs = 50, verbose = 1)"
   ]
  },
  {
   "cell_type": "code",
   "execution_count": 57,
   "metadata": {},
   "outputs": [],
   "source": [
    "# loss_func_name = 'categorical_crossentropy'\n",
    "# for value in history.history[\"categorical_crossentropy\"]:\n",
    "#     print(history)"
   ]
  },
  {
   "cell_type": "code",
   "execution_count": 58,
   "metadata": {},
   "outputs": [
    {
     "name": "stdout",
     "output_type": "stream",
     "text": [
      "100/100 [==============================] - 2s 17ms/step\n",
      "<class 'list'> [2.1565294647216797, 0.0]\n"
     ]
    }
   ],
   "source": [
    "# evaluate the model\n",
    "loss_accuracy = model.evaluate(sequences1[0:100], label_list[0:100], verbose=1)\n",
    "print(type(loss_accuracy), loss_accuracy)"
   ]
  },
  {
   "cell_type": "code",
   "execution_count": 59,
   "metadata": {},
   "outputs": [],
   "source": [
    "test_tokenizer = Tokenizer()\n",
    "test_tokenizer.fit_on_texts(test_texts)\n",
    "test_sequences = test_tokenizer.texts_to_sequences(test_texts)\n",
    "test_sequences1 = pad_sequences(test_sequences, maxlen=max_doc_word_length, padding='post')"
   ]
  },
  {
   "cell_type": "code",
   "execution_count": 60,
   "metadata": {},
   "outputs": [],
   "source": [
    "# print(len(test_sequences1))\n",
    "# print(len(test_sequences1[0]))\n",
    "# print(len(label_list))\n",
    "# print(len(label_list[0]))\n",
    "# old_label = label_list[0]\n",
    "# print(type(label_list[0]))\n",
    "# print(type(old_label))\n",
    "# for label1 in label_list:\n",
    "#     if not np.array_equal(label1 , old_label):\n",
    "#         print(label1)\n",
    "#         old_label = label1"
   ]
  },
  {
   "cell_type": "code",
   "execution_count": 61,
   "metadata": {},
   "outputs": [
    {
     "name": "stdout",
     "output_type": "stream",
     "text": [
      "1000 [[1.1621815e-01 1.9188400e-01 9.2450708e-02 ... 1.1011779e-04\n",
      "  8.8705562e-02 1.3003682e-01]\n",
      " [7.6237507e-02 9.5963083e-02 1.3309668e-01 ... 7.0879512e-05\n",
      "  1.4548464e-01 9.6880250e-02]\n",
      " [7.6237500e-02 9.5963083e-02 1.3309668e-01 ... 7.0879534e-05\n",
      "  1.4548463e-01 9.6880257e-02]\n",
      " ...\n",
      " [1.1621809e-01 1.9188400e-01 9.2450693e-02 ... 1.1011779e-04\n",
      "  8.8705540e-02 1.3003682e-01]\n",
      " [7.6237485e-02 9.5963076e-02 1.3309671e-01 ... 7.0879440e-05\n",
      "  1.4548464e-01 9.6880265e-02]\n",
      " [1.1621810e-01 1.9188401e-01 9.2450701e-02 ... 1.1011769e-04\n",
      "  8.8705540e-02 1.3003680e-01]]\n",
      "[1, 8, 8, 0, 8, 1, 6, 8, 6, 8, 1, 1, 6, 6, 6, 6, 8, 8, 8, 6, 0, 1, 1, 0, 1, 6, 8, 6, 1, 0, 8, 6, 8, 6, 0, 8, 6, 0, 8, 8, 8, 6, 8, 8, 6, 8, 8, 6, 1, 6, 0, 0, 0, 6, 8, 6, 8, 0, 8, 8, 8, 1, 0, 6, 8, 0, 0, 8, 8, 1, 1, 0, 0, 1, 6, 6, 1, 0, 8, 8, 6, 6, 8, 8, 6, 6, 6, 6, 8, 6, 1, 0, 0, 1, 6, 6, 6, 6, 6, 6, 0, 0, 8, 8, 8, 8, 1, 8, 0, 6, 8, 6, 1, 8, 8, 8, 6, 1, 0, 0, 8, 8, 1, 8, 8, 8, 8, 6, 6, 6, 6, 8, 6, 6, 8, 1, 8, 6, 8, 1, 8, 6, 8, 1, 0, 1, 6, 1, 6, 1, 6, 8, 1, 6, 8, 6, 1, 0, 6, 1, 0, 8, 8, 0, 6, 8, 1, 0, 0, 8, 8, 0, 8, 8, 0, 1, 1, 0, 8, 8, 0, 0, 6, 6, 0, 6, 0, 0, 1, 6, 8, 0, 6, 1, 6, 0, 6, 6, 6, 8, 6, 0, 8, 6, 6, 6, 1, 8, 6, 6, 8, 6, 0, 1, 0, 6, 8, 1, 1, 0, 6, 8, 6, 6, 8, 0, 6, 8, 8, 8, 8, 1, 0, 8, 8, 8, 6, 6, 8, 0, 8, 0, 8, 0, 8, 8, 8, 6, 8, 6, 6, 6, 1, 8, 0, 6, 6, 6, 8, 8, 8, 8, 6, 0, 8, 0, 6, 1, 8, 1, 8, 0, 8, 0, 8, 6, 8, 6, 8, 1, 1, 8, 8, 1, 8, 6, 8, 8, 6, 8, 0, 6, 1, 0, 6, 0, 8, 1, 8, 8, 0, 8, 0, 8, 1, 1, 8, 1, 1, 8, 8, 8, 8, 8, 8, 6, 1, 6, 6, 0, 6, 0, 0, 6, 1, 0, 6, 1, 8, 8, 0, 8, 8, 0, 8, 6, 8, 0, 8, 0, 6, 1, 8, 0, 6, 6, 6, 8, 8, 8, 8, 6, 6, 8, 0, 6, 6, 8, 1, 8, 1, 6, 0, 1, 8, 8, 6, 6, 6, 0, 6, 8, 1, 8, 6, 8, 1, 8, 1, 6, 6, 1, 1, 8, 8, 1, 1, 8, 8, 1, 0, 6, 8, 6, 6, 8, 8, 8, 8, 8, 8, 8, 1, 1, 8, 6, 6, 6, 8, 6, 1, 6, 6, 6, 6, 6, 8, 0, 6, 1, 8, 8, 8, 8, 1, 6, 1, 6, 1, 6, 8, 1, 1, 0, 8, 8, 8, 8, 1, 1, 0, 8, 6, 6, 1, 6, 6, 8, 6, 8, 0, 8, 6, 0, 8, 6, 1, 6, 8, 8, 6, 6, 8, 8, 0, 6, 8, 0, 6, 8, 8, 1, 8, 8, 1, 8, 8, 8, 8, 8, 6, 8, 6, 6, 8, 6, 6, 1, 6, 8, 8, 8, 6, 8, 8, 8, 1, 8, 1, 8, 0, 1, 1, 6, 6, 1, 6, 8, 1, 8, 1, 6, 6, 1, 0, 6, 6, 6, 8, 6, 8, 8, 8, 8, 1, 8, 0, 8, 0, 1, 8, 1, 1, 6, 1, 1, 8, 8, 0, 8, 8, 6, 6, 8, 0, 8, 8, 8, 6, 0, 1, 0, 0, 6, 1, 8, 6, 8, 6, 6, 1, 6, 1, 0, 8, 6, 6, 6, 8, 8, 8, 8, 0, 6, 6, 6, 8, 1, 8, 1, 8, 1, 6, 1, 1, 0, 0, 8, 1, 6, 6, 8, 1, 6, 8, 8, 8, 1, 0, 6, 1, 8, 8, 6, 0, 8, 6, 1, 8, 6, 6, 0, 0, 6, 0, 6, 6, 8, 8, 0, 0, 8, 6, 8, 8, 6, 8, 8, 1, 6, 6, 6, 8, 6, 8, 6, 8, 6, 0, 6, 6, 0, 0, 8, 8, 1, 8, 1, 8, 6, 1, 6, 0, 8, 6, 8, 8, 6, 6, 6, 6, 8, 6, 6, 0, 8, 6, 1, 1, 1, 1, 6, 6, 6, 6, 8, 1, 0, 1, 6, 8, 1, 8, 6, 6, 6, 8, 6, 0, 6, 6, 1, 0, 1, 8, 8, 6, 0, 0, 1, 6, 8, 8, 0, 0, 6, 6, 8, 8, 8, 8, 8, 8, 6, 1, 0, 0, 6, 8, 6, 8, 0, 1, 6, 6, 1, 6, 1, 8, 6, 1, 1, 0, 8, 8, 6, 1, 1, 6, 1, 8, 6, 8, 6, 6, 0, 8, 6, 8, 8, 8, 8, 8, 6, 0, 6, 8, 8, 8, 1, 8, 0, 6, 6, 6, 1, 8, 8, 8, 8, 6, 8, 6, 8, 0, 0, 8, 8, 1, 6, 1, 1, 6, 8, 8, 8, 0, 8, 6, 8, 8, 0, 8, 8, 8, 6, 6, 8, 6, 1, 1, 8, 8, 0, 6, 1, 8, 8, 0, 8, 6, 8, 6, 1, 1, 8, 8, 6, 8, 1, 1, 1, 1, 1, 8, 6, 0, 1, 6, 0, 8, 6, 6, 8, 8, 6, 0, 0, 1, 8, 8, 1, 0, 6, 1, 6, 1, 6, 8, 0, 6, 8, 8, 8, 8, 6, 8, 6, 6, 1, 1, 6, 8, 8, 6, 8, 0, 8, 8, 6, 6, 8, 1, 8, 6, 8, 1, 1, 6, 6, 1, 6, 0, 1, 6, 6, 6, 6, 6, 1, 8, 0, 1, 6, 0, 1, 1, 6, 1, 8, 6, 8, 6, 8, 6, 8, 6, 6, 1, 0, 8, 6, 6, 6, 8, 8, 1, 8, 6, 8, 8, 6, 6, 0, 8, 0, 8, 1, 8, 6, 8, 8, 8, 6, 8, 0, 0, 8, 1, 8, 8, 6, 0, 8, 0, 6, 6, 0, 8, 8, 8, 8, 6, 8, 1, 8, 1, 0, 8, 1, 0, 6, 6, 0, 0, 1, 8, 8, 8, 8, 0, 6, 0, 6, 8, 8, 0, 1, 0, 0, 8, 8, 1, 0, 1, 1, 8, 8, 1, 8, 8, 8, 8, 0, 8, 0, 8, 1, 8, 1]\n"
     ]
    }
   ],
   "source": [
    "predict_res = model.predict(test_sequences1, batch_size= 32, verbose=0)\n",
    "print(len(predict_res), predict_res)\n",
    "\n",
    "final_res = []\n",
    "for pre_res in predict_res:\n",
    "    final_res.append(np.argmax(pre_res))\n",
    "print(final_res)"
   ]
  },
  {
   "cell_type": "code",
   "execution_count": 62,
   "metadata": {},
   "outputs": [
    {
     "name": "stdout",
     "output_type": "stream",
     "text": [
      "1000\n"
     ]
    }
   ],
   "source": [
    "# result_txt = \"result\" + str(datetime.now()).split()[1] + \".txt\"\n",
    "print(len(final_res))\n",
    "result_txt = \"result001\" + \".txt\"\n",
    "ids = 0\n",
    "with open(result_txt, 'w') as out:\n",
    "    out.write(\"id,category\" + '\\n')\n",
    "    for value in final_res:\n",
    "        out.write(str(ids) + \",\" + str(value) + '\\n')\n",
    "        ids += 1"
   ]
  }
 ],
 "metadata": {
  "kernelspec": {
   "display_name": "Python 3",
   "language": "python",
   "name": "python3"
  },
  "language_info": {
   "codemirror_mode": {
    "name": "ipython",
    "version": 3
   },
   "file_extension": ".py",
   "mimetype": "text/x-python",
   "name": "python",
   "nbconvert_exporter": "python",
   "pygments_lexer": "ipython3",
   "version": "3.5.2"
  }
 },
 "nbformat": 4,
 "nbformat_minor": 2
}
