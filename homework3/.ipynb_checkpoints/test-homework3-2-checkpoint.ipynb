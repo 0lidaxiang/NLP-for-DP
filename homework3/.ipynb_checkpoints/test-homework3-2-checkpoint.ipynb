{
 "cells": [
  {
   "cell_type": "code",
   "execution_count": 1,
   "metadata": {},
   "outputs": [],
   "source": [
    "# from gensim.models import word2vec\n",
    "\n",
    "# answer = word2vec.Word2Vec.load(\"word2vec1.model\")\n",
    "# print(type(answer))\n",
    "\n",
    "# word_vectors = answer.wv\n",
    "# wvv = word_vectors.vocab\n",
    "# print(type(wvv), len(wvv))\n",
    "\n",
    "# wvv_keys = wvv.keys()\n",
    "# print(list(wvv.values())[:10])\n",
    "# print(type(wvv_keys), len(wvv_keys))\n",
    "\n",
    "# wvv_keys_list = list(wvv_keys)\n",
    "# print(wvv_keys_list[:10])\n",
    "# print(type(answer[\"覺得心\"]), len(answer[\"覺得心\"]))\n",
    "\n",
    "# # wvv_new_dict = dict(wvv_keys_list)\n",
    "# wvv_new_dict = dict(enumerate(wvv_keys_list))\n",
    "# print(type(wvv_new_dict), len(wvv_new_dict))"
   ]
  },
  {
   "cell_type": "code",
   "execution_count": null,
   "metadata": {},
   "outputs": [],
   "source": [
    "ss = []\n",
    "ss = np.append( ss, [1, 2 ,3], axis=0)\n",
    "ss = np.append( ss, [ 3], axis=0)\n",
    "print(ss)"
   ]
  },
  {
   "cell_type": "code",
   "execution_count": null,
   "metadata": {},
   "outputs": [],
   "source": [
    "test_feature= np.asarray(test_embedding_matrix[10])\n",
    "# print(test_feature)\n",
    "predict_res = model.predict(test_feature, batch_size=5, verbose=0)\n",
    "print(len(predict_res), predict_res[0])\n",
    "\n",
    "final_res = []\n",
    "now_item = predict_res[0]\n",
    "max_val = max(now_item)\n",
    "final_res.append(np.argmax(now_item))\n",
    "print(final_res)\n",
    "\n",
    "# test_item = test_list[0]\n",
    "# test_feature= np.asarray([test_list[0]])\n",
    "# predict_res = model.predict(test_feature, batch_size=5, verbose=0)\n",
    "# final_res = []\n",
    "# print(len(test_list))\n",
    "# for test_item in test_list:\n",
    "#     test_feature= np.asarray([test_item])\n",
    "#     predict_res = model.predict(test_feature, batch_size=5, verbose=0)\n",
    "#     print(predict_res)\n",
    "# # for res in predict_res:\n",
    "#     now_item = res[0]\n",
    "#     max_val = max(now_item)\n",
    "#     final_res.append(np.argmax(now_item))"
   ]
  },
  {
   "cell_type": "code",
   "execution_count": null,
   "metadata": {},
   "outputs": [],
   "source": [
    "answer = word2vec.Word2Vec.load(\"word2vec1.model\")\n",
    "word_vectors = answer.wv\n",
    "wvv = word_vectors.vocab\n",
    "wvv_keys = wvv.keys()\n",
    "wvv_keys_list = list(wvv_keys)\n",
    "wvv_new_dict1 = dict(enumerate(wvv_keys_list))\n",
    "print(type(wvv_new_dict1))\n",
    "test_embedding_matrix = np.zeros((len(test_dict) + 1, 400))\n",
    "# inss = 0\n",
    "for i,word in test_dict.items():\n",
    "#     print(i,train_dict[i][1], word, \"\\n\")\n",
    "#     if inss > 10:\n",
    "#         break\n",
    "    test_embedding_vector = wvv_new_dict1[word]\n",
    "    test_embedding_matrix[i] = test_embedding_vector\n",
    "# del answer\n",
    "# embeddings_index = list()\n",
    "# # word_vectors = answer.wv\n",
    "# MAX_NB_WORDS = len(word_index)\n",
    "# for word,vocab_obj in word_vectors.vocab.items():\n",
    "#     if int(vocab_obj.index) < MAX_NB_WORDS:\n",
    "#         embeddings_index[word] = word_vectors[word]\n",
    "# del answer, word_vectors\n",
    "# print(\"Found %s word vectors.\" % len(embeddings_index))"
   ]
  },
  {
   "cell_type": "code",
   "execution_count": null,
   "metadata": {},
   "outputs": [],
   "source": [
    "# inss = 0\n",
    "for i,word in train_dict.items():\n",
    "#     print(i,train_dict[i][1], word, \"\\n\")\n",
    "#     if inss > 10:\n",
    "#         break\n",
    "    embedding_vector = getArticleVec(word)\n",
    "    embedding_matrix[i] = embedding_vector\n",
    "#     inss += 1"
   ]
  }
 ],
 "metadata": {
  "kernelspec": {
   "display_name": "Python 3",
   "language": "python",
   "name": "python3"
  },
  "language_info": {
   "codemirror_mode": {
    "name": "ipython",
    "version": 3
   },
   "file_extension": ".py",
   "mimetype": "text/x-python",
   "name": "python",
   "nbconvert_exporter": "python",
   "pygments_lexer": "ipython3",
   "version": "3.5.2"
  }
 },
 "nbformat": 4,
 "nbformat_minor": 2
}
