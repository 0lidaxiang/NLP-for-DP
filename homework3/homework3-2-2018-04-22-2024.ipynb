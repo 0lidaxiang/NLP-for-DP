{
 "cells": [
  {
   "cell_type": "code",
   "execution_count": 1,
   "metadata": {},
   "outputs": [],
   "source": [
    "import warnings\n",
    "warnings.filterwarnings('ignore')"
   ]
  },
  {
   "cell_type": "code",
   "execution_count": 2,
   "metadata": {},
   "outputs": [
    {
     "name": "stderr",
     "output_type": "stream",
     "text": [
      "Using TensorFlow backend.\n"
     ]
    }
   ],
   "source": [
    "#!/usr/bin/python3\n",
    "# -*- coding: UTF-8 -*-\n",
    "import time\n",
    "from keras import metrics\n",
    "import os\n",
    "import numpy as np\n",
    "import keras\n",
    "from keras.models import load_model\n",
    "from keras.preprocessing.text import Tokenizer\n",
    "from keras.preprocessing.sequence import pad_sequences\n",
    "from keras.models import Sequential\n",
    "from keras.layers import Dense, Dropout, Flatten, SimpleRNN,Activation\n",
    "from keras.layers.embeddings import Embedding\n",
    "from datetime import datetime\n",
    "from gensim.models import word2vec"
   ]
  },
  {
   "cell_type": "code",
   "execution_count": 3,
   "metadata": {},
   "outputs": [
    {
     "name": "stdout",
     "output_type": "stream",
     "text": [
      "11199 11199.666666666666\n"
     ]
    }
   ],
   "source": [
    "input_size = int(33599 / 3)\n",
    "print(input_size, 33599 / 3)"
   ]
  },
  {
   "cell_type": "code",
   "execution_count": 4,
   "metadata": {},
   "outputs": [
    {
     "name": "stdout",
     "output_type": "stream",
     "text": [
      "10 ['Tech_Job', 'e-shopping', 'babymother', 'joke', 'Makeup', 'Japan_Travel', 'WomenTalk', 'movie', 'KR_ENTERTAIN', 'graduate']\n"
     ]
    }
   ],
   "source": [
    "import pandas as pd\n",
    "\n",
    "TRAINING_PATH = './data/training/'\n",
    "TESTING_PATH = './data/testing/'\n",
    "\n",
    "categories = [dirname for dirname in os.listdir(TRAINING_PATH) if dirname[-4:] != '_cut']\n",
    "print(len(categories), str(categories))\n",
    "\n",
    "category2idx = {'Japan_Travel': 0, 'KR_ENTERTAIN': 1, 'Makeup': 2, 'Tech_Job':  3, 'WomenTalk': 4,\n",
    "                  'babymother': 5, 'e-shopping': 6, 'graduate': 7, 'joke': 8, 'movie': 9}\n",
    "\n",
    "\n",
    "train_list = []\n",
    "for category in categories:\n",
    "    category_idx = category2idx[category]\n",
    "    category_path = TRAINING_PATH + category + '_cut/'\n",
    "    \n",
    "    for filename in os.listdir(category_path):\n",
    "        filepath = category_path + filename\n",
    "        \n",
    "        with open(filepath, encoding='utf-8') as file:\n",
    "            words = file.read().strip().split(' / ')\n",
    "            train_list.append([words, category_idx])\n",
    "            "
   ]
  },
  {
   "cell_type": "code",
   "execution_count": 5,
   "metadata": {},
   "outputs": [],
   "source": [
    "test_list = []\n",
    "category_path = TESTING_PATH \n",
    "    \n",
    "for filename in os.listdir(category_path):\n",
    "        filepath = category_path + filename\n",
    "        \n",
    "        with open(filepath, encoding='utf-8') as file:\n",
    "            words = file.read().strip().split(' / ')\n",
    "            test_list.append([words, 1])\n",
    "\n",
    "# test_list[1]"
   ]
  },
  {
   "cell_type": "code",
   "execution_count": 6,
   "metadata": {},
   "outputs": [],
   "source": [
    "# train_list[0][1]\n",
    "train_dict =  dict(enumerate(train_list))\n",
    "test_dict =  dict(enumerate(test_list))\n",
    "# train_dict[0][1]\n",
    "# len(train_dict)"
   ]
  },
  {
   "cell_type": "code",
   "execution_count": 7,
   "metadata": {},
   "outputs": [
    {
     "name": "stdout",
     "output_type": "stream",
     "text": [
      "<class 'gensim.models.word2vec.Word2Vec'>\n"
     ]
    }
   ],
   "source": [
    "answer = word2vec.Word2Vec.load(\"word2vec1.model\")\n",
    "print(type(answer))\n",
    "\n",
    "word_vectors = answer.wv\n",
    "wvv = word_vectors.vocab\n",
    "# wvv_keys = wvv.keys()\n",
    "# wvv_keys_list = list(wvv_keys)\n",
    "# wvv_new_dict = dict(enumerate(wvv_keys_list))\n",
    "# word_index = len(wvv_keys_list)"
   ]
  },
  {
   "cell_type": "code",
   "execution_count": 8,
   "metadata": {},
   "outputs": [
    {
     "name": "stdout",
     "output_type": "stream",
     "text": [
      "9000\n",
      "36132\n",
      "3971\n"
     ]
    }
   ],
   "source": [
    "train_pickle_df = pd.read_pickle('train.pkl')\n",
    "train_texts = train_pickle_df[\"text\"]\n",
    "train_texts = train_texts.values\n",
    "print(len(train_texts))\n",
    "print(len(wvv))\n",
    "# ss = type(pickle_df[\"text\"])\n",
    "# print(ss)\n",
    "# print(type(val))\n",
    "ssss=0\n",
    "max_ss_len = 0\n",
    "for i,word in train_dict.items():\n",
    "#     if ssss > 4:\n",
    "#         break\n",
    "    ssss += 1\n",
    "    ss_len = len(word[0])\n",
    "    if max_ss_len < ss_len:\n",
    "        max_ss_len = ss_len\n",
    "#     print(i, ss_len)\n",
    "print(max_ss_len)"
   ]
  },
  {
   "cell_type": "code",
   "execution_count": 9,
   "metadata": {},
   "outputs": [
    {
     "name": "stdout",
     "output_type": "stream",
     "text": [
      "Found 232236 unique tokens\n"
     ]
    }
   ],
   "source": [
    "texts = train_texts\n",
    "tokenizer = Tokenizer()\n",
    "tokenizer.fit_on_texts(texts)\n",
    "sequences = tokenizer.texts_to_sequences(texts)\n",
    "word_index = tokenizer.word_index\n",
    "print(\"Found %s unique tokens\" % len(word_index))\n",
    "# data = pad_sequences(sequences)\n",
    "# print(\"Shape of data tensor:\" , data.shape)\n",
    "max_doc_word_length = 3971\n"
   ]
  },
  {
   "cell_type": "code",
   "execution_count": 10,
   "metadata": {},
   "outputs": [],
   "source": [
    "# print(len(word_index))\n",
    "# print(type(word_index), len(word_index))\n",
    "# ii = 0\n",
    "# for word,i in word_index.items():\n",
    "#     if ii > 10:\n",
    "#         break\n",
    "#     print(type(word), i, len(word), word)\n",
    "#     ii+=1\n",
    "# print(type(word_index[0]), word_index.shape)"
   ]
  },
  {
   "cell_type": "code",
   "execution_count": 11,
   "metadata": {},
   "outputs": [
    {
     "name": "stdout",
     "output_type": "stream",
     "text": [
      "9000\n",
      "[45, 40836, 2384, 40837, 5991, 49, 197, 28888, 226, 80934, 11421, 2443, 1085, 80935, 1582, 80936, 3054, 14636, 80937, 623, 6847, 13846, 1077, 80938, 80939, 2299, 80940, 80941, 80942, 2299, 129, 33600, 2868, 52, 80943, 519, 4756, 80944, 2266, 53252, 2266, 80945, 907, 5266, 80946, 33601, 80947, 49, 3840, 1714, 296, 11, 370, 836, 5890, 20, 16562, 727]\n"
     ]
    },
    {
     "ename": "NameError",
     "evalue": "name 'word_index1' is not defined",
     "output_type": "error",
     "traceback": [
      "\u001b[0;31m---------------------------------------------------------------------------\u001b[0m",
      "\u001b[0;31mNameError\u001b[0m                                 Traceback (most recent call last)",
      "\u001b[0;32m<ipython-input-11-2b329c013b19>\u001b[0m in \u001b[0;36m<module>\u001b[0;34m()\u001b[0m\n\u001b[1;32m      2\u001b[0m \u001b[0mprint\u001b[0m\u001b[0;34m(\u001b[0m\u001b[0msequences\u001b[0m\u001b[0;34m[\u001b[0m\u001b[0;36m0\u001b[0m\u001b[0;34m]\u001b[0m\u001b[0;34m)\u001b[0m\u001b[0;34m\u001b[0m\u001b[0m\n\u001b[1;32m      3\u001b[0m \u001b[0mword_index\u001b[0m \u001b[0;34m=\u001b[0m \u001b[0mpad_sequences\u001b[0m\u001b[0;34m(\u001b[0m\u001b[0msequences\u001b[0m\u001b[0;34m,\u001b[0m \u001b[0mmaxlen\u001b[0m\u001b[0;34m=\u001b[0m\u001b[0mmax_doc_word_length\u001b[0m\u001b[0;34m,\u001b[0m \u001b[0mpadding\u001b[0m\u001b[0;34m=\u001b[0m\u001b[0;34m'post'\u001b[0m\u001b[0;34m)\u001b[0m\u001b[0;34m\u001b[0m\u001b[0m\n\u001b[0;32m----> 4\u001b[0;31m \u001b[0mprint\u001b[0m\u001b[0;34m(\u001b[0m\u001b[0mlen\u001b[0m\u001b[0;34m(\u001b[0m\u001b[0mword_index1\u001b[0m\u001b[0;34m)\u001b[0m\u001b[0;34m)\u001b[0m\u001b[0;34m\u001b[0m\u001b[0m\n\u001b[0m\u001b[1;32m      5\u001b[0m \u001b[0mprint\u001b[0m\u001b[0;34m(\u001b[0m\u001b[0mword_index1\u001b[0m\u001b[0;34m[\u001b[0m\u001b[0;36m0\u001b[0m\u001b[0;34m]\u001b[0m\u001b[0;34m.\u001b[0m\u001b[0mshape\u001b[0m\u001b[0;34m)\u001b[0m\u001b[0;34m\u001b[0m\u001b[0m\n",
      "\u001b[0;31mNameError\u001b[0m: name 'word_index1' is not defined"
     ]
    }
   ],
   "source": [
    "print(len(sequences))\n",
    "print(sequences[0])\n",
    "word_index = pad_sequences(sequences, maxlen=max_doc_word_length, padding='post')\n",
    "print(len(word_index1))\n",
    "print(word_index1[0].shape)"
   ]
  },
  {
   "cell_type": "code",
   "execution_count": null,
   "metadata": {},
   "outputs": [],
   "source": [
    "embeddings_index = dict()\n",
    "MAX_NB_WORDS = len(word_index)\n",
    "for word,vocab_obj in wvv.items():\n",
    "#     print(  word_vectors[word])\n",
    "    if int(vocab_obj.index) < MAX_NB_WORDS and word == -1:    \n",
    "        embeddings_index[word] = word_vectors[word]\n",
    "\n",
    "print(MAX_NB_WORDS)\n",
    "print(\"Found %s word vectors.\" % len(wvv))\n",
    "OUT_SIZE = 250\n",
    "\n",
    "def getArticleMatrix(article_temp):\n",
    "    res = np.zeros((3971,  OUT_SIZE))\n",
    "    i = 0\n",
    "    for word in article_temp:\n",
    "        word_embedding_vector = embeddings_index.get(word)\n",
    "        if word_embedding_vector is not None:\n",
    "            res[i] = word_embedding_vector\n",
    "            res[i]=np.reshape(res[i],(1, 250))\n",
    "    return res\n",
    "\n",
    "print(\"wvv : \", len(wvv))\n",
    "print(len(wvv[0]))\n",
    "# print(len(word_index[1]))"
   ]
  },
  {
   "cell_type": "code",
   "execution_count": null,
   "metadata": {},
   "outputs": [],
   "source": [
    "print(len(train_dict))\n",
    "# print(train_dict[0][0])\n",
    "\n",
    "# ARTICLES_LEN = len(train_dict)\n",
    "# ARTICLES_LEN = 1000\n",
    "# articles_matrix = np.zeros((ARTICLES_LEN, 3971, 250))\n",
    "# for i,article in train_dict.items():\n",
    "#     if i < ARTICLES_LEN:\n",
    "#         temp_vec = getArticleMatrix(article[0])\n",
    "#         if temp_vec is not None:\n",
    "#             articles_matrix[i] = temp_vec\n",
    "#     else:\n",
    "#         break\n",
    "# print(len(articles_matrix))"
   ]
  },
  {
   "cell_type": "code",
   "execution_count": null,
   "metadata": {},
   "outputs": [],
   "source": [
    "articles_num = len(train_dict)\n",
    "\n",
    "embedding_matrix = np.zeros( (len(word_index), 250))\n",
    "print(\"embedding_matrix\", embedding_matrix.shape)\n",
    "\n",
    "for i,word in word_index.items():\n",
    "    embedding_vector = embeddings_index.get(word)\n",
    "#     print(embedding_vector.shape)\n",
    "    if embedding_vector is not None:\n",
    "        embedding_matrix[i] = embedding_vector\n",
    "embedding_matrix_len = len(word_index)\n",
    "\n",
    "print(embedding_matrix_len, OUT_SIZE, 3971)\n",
    "embedding_layer = Embedding(embedding_matrix_len, 128,\n",
    "                            weights = [embeddings_index],\n",
    "                            input_length = 3971,\n",
    "                            trainable = False)\n",
    "print(\"articles_num\", articles_num)\n"
   ]
  },
  {
   "cell_type": "code",
   "execution_count": null,
   "metadata": {},
   "outputs": [],
   "source": [
    "print(len(embedding_matrix[0]))\n",
    "# input_array = np.random.randint(embedding_matrix_len, size=(50, 3971))\n",
    "# print(input_array.shape)"
   ]
  },
  {
   "cell_type": "code",
   "execution_count": null,
   "metadata": {},
   "outputs": [],
   "source": [
    "embedding_matrix_len = len(embedding_matrix[0])\n",
    "label_list = np.zeros((embedding_matrix_len, 10))\n",
    "label_id = 0\n",
    "for i,article in train_dict.items():\n",
    "    article_len = len(article)\n",
    "    sec_i = article[1]\n",
    "    for w_i in range(0, article_len):\n",
    "        label_list[label_id][sec_i] = 1\n",
    "        label_id += 1\n",
    "#             break\n",
    "print(label_list[i])\n",
    "    \n",
    "# label_new_list= np.zeros((embedding_matrix_len, 10))\n",
    "# label_list_i = 0\n",
    "# for label in label_list:\n",
    "#     label_new = np.reshape(label_list[label_list_i],(1, 10))\n",
    "#     label_new_list[label_list_i] = label_new\n",
    "#     label_list_i += 1\n",
    "print(len(label_list))    \n",
    "# del label_list    \n",
    "# print(label_list.shape)\n",
    "# print(label_new_list[0].shape)"
   ]
  },
  {
   "cell_type": "code",
   "execution_count": null,
   "metadata": {},
   "outputs": [],
   "source": [
    "# input_dim = 400\n",
    "# output_dim = 100\n",
    "model = Sequential()\n",
    "model.add(embedding_layer)\n",
    "\n",
    "model.add(SimpleRNN(input_dim = 250, output_dim = 50, unroll=True))\n",
    "nb_classes = 10\n",
    "model.add(Dense( nb_classes, input_dim = 3971))\n",
    "model.add(Activation('softmax'))\n",
    "early_stopping = keras.callbacks.EarlyStopping(monitor='val_loss', min_delta=0.00001, patience=0, verbose=0, mode='auto')\n",
    "model.compile(optimizer='adam',loss='categorical_crossentropy',  metrics=[metrics.mae, metrics.categorical_accuracy])\n",
    "model.summary()\n",
    "\n",
    "\n"
   ]
  },
  {
   "cell_type": "code",
   "execution_count": null,
   "metadata": {},
   "outputs": [],
   "source": [
    "train_result= articles_matrix[0]\n",
    "train_label = np.asarray(label_list[0])\n",
    "train_result= np.reshape( train_result ,(250, 3971))\n",
    "train_label= np.zeros((1, 10))\n",
    "\n",
    "print(train_result.shape)\n",
    "print(train_label)\n",
    "print(train_label.shape)\n"
   ]
  },
  {
   "cell_type": "code",
   "execution_count": null,
   "metadata": {},
   "outputs": [],
   "source": [
    "history = model.fit(x = train_result, y = train_label, \n",
    "                    validation_split=0.1, \n",
    "                    callbacks=[early_stopping], \n",
    "                    epochs = 1, verbose = 1)"
   ]
  },
  {
   "cell_type": "code",
   "execution_count": null,
   "metadata": {},
   "outputs": [],
   "source": [
    "test_feature=  embedding_matrix[5010:5011]\n",
    "predict_res = model.predict(test_feature, batch_size= 32, verbose=0)\n",
    "print(len(predict_res), predict_res)\n",
    "\n",
    "final_res = []\n",
    "now_item = predict_res[0]\n",
    "max_val = max(now_item)\n",
    "final_res.append(np.argmax(now_item))\n",
    "print(final_res)"
   ]
  },
  {
   "cell_type": "code",
   "execution_count": null,
   "metadata": {},
   "outputs": [],
   "source": [
    "# del model\n",
    "# model = load_model('my_model.h5')\n",
    "len(embedding_matrix)"
   ]
  },
  {
   "cell_type": "code",
   "execution_count": null,
   "metadata": {},
   "outputs": [],
   "source": [
    "# final_res = []\n",
    "# print(len(test_embedding_matrix))\n",
    "# for predicc in test_embedding_matrix:\n",
    "#     test_feature= np.asarray(predicc)\n",
    "#     predict_res = model.predict(test_feature, batch_size= 32, verbose=0)\n",
    "# #     print(len(predict_res), predict_res[0])\n",
    "    \n",
    "#     now_item = predict_res[0]\n",
    "#     max_val = max(now_item)\n",
    "#     final_res.append(np.argmax(now_item))\n",
    "# print(final_res)"
   ]
  },
  {
   "cell_type": "code",
   "execution_count": null,
   "metadata": {},
   "outputs": [],
   "source": [
    "# # result_txt = \"result\" + str(datetime.now()).split()[1] + \".txt\"\n",
    "# print(len(final_res))\n",
    "# result_txt = \"result001\" + \".txt\"\n",
    "# ids = 0\n",
    "# with open(result_txt, 'a') as out:\n",
    "#     out.write(\"id,category\" + '\\n')\n",
    "#     for value in final_res:\n",
    "#         out.write(str(ids) + \",\" + str(value) + '\\n')\n",
    "#         ids += 1"
   ]
  },
  {
   "cell_type": "code",
   "execution_count": null,
   "metadata": {},
   "outputs": [],
   "source": [
    "# start_time = time.time()\n",
    "# start = 0\n",
    "\n",
    "# for embed_item_index in range(0, 487):\n",
    "# #     train_result= np.asarray([embedding_matrix])\n",
    "# #     train_label =  np.asarray([label_list[label_id]])\n",
    "    \n",
    "#     end = start + 100\n",
    "#     train_result= articles_matrix[start:end]\n",
    "#     train_label = label_list[start:end]\n",
    "#     history = model.fit(x = train_result, y = train_label, validation_split=0.1, callbacks=[early_stopping], epochs = 5, verbose = 0)\n",
    "#     model.save('my_model.h5')\n",
    "#     scores = model.evaluate(x = train_result, y = train_label, batch_size=32, verbose = 0)\n",
    "#     if  embed_item_index % 10 == 0 :  \n",
    "#         end_time = time.time()\n",
    "#         excution_time = end_time- start_time\n",
    "#         excution_time_min = round(excution_time / 60, 2)\n",
    "#         print(embed_item_index, \" , loss : \", round(scores[0], 6), \"   acc : \" , scores[1],\n",
    "#               \"  minutes: \" , excution_time_min)\n",
    "# #     loss_func_name = 'categorical_crossentropy'\n",
    "# # #     for value in history.history[loss_func_name]:\n",
    "# #     print(history)\n",
    "        \n",
    "#     if embed_item_index < 40 :  \n",
    "#         pass\n",
    "        \n",
    "#     else:\n",
    "#         break\n",
    "#     start += 100"
   ]
  }
 ],
 "metadata": {
  "kernelspec": {
   "display_name": "Python 3",
   "language": "python",
   "name": "python3"
  },
  "language_info": {
   "codemirror_mode": {
    "name": "ipython",
    "version": 3
   },
   "file_extension": ".py",
   "mimetype": "text/x-python",
   "name": "python",
   "nbconvert_exporter": "python",
   "pygments_lexer": "ipython3",
   "version": "3.5.2"
  }
 },
 "nbformat": 4,
 "nbformat_minor": 2
}
