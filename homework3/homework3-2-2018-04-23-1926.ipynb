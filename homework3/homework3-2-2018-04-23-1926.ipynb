{
 "cells": [
  {
   "cell_type": "code",
   "execution_count": 1,
   "metadata": {},
   "outputs": [],
   "source": [
    "import warnings\n",
    "warnings.filterwarnings('ignore')"
   ]
  },
  {
   "cell_type": "code",
   "execution_count": 2,
   "metadata": {},
   "outputs": [
    {
     "name": "stderr",
     "output_type": "stream",
     "text": [
      "Using TensorFlow backend.\n"
     ]
    }
   ],
   "source": [
    "#!/usr/bin/python3\n",
    "# -*- coding: UTF-8 -*-\n",
    "import time\n",
    "from keras import metrics\n",
    "import os\n",
    "import numpy as np\n",
    "import keras\n",
    "from keras.models import load_model\n",
    "from keras.preprocessing.text import Tokenizer\n",
    "from keras.preprocessing.sequence import pad_sequences\n",
    "from keras.models import Sequential\n",
    "from keras.layers import Dense, Dropout, Flatten, SimpleRNN,Activation\n",
    "from keras.layers.embeddings import Embedding\n",
    "from datetime import datetime\n",
    "from gensim.models import word2vec\n",
    "import pandas as pd"
   ]
  },
  {
   "cell_type": "code",
   "execution_count": 5,
   "metadata": {},
   "outputs": [],
   "source": [
    "# get texts data\n",
    "TRAINING_PATH = './data/training/'\n",
    "TESTING_PATH = './data/testing/'\n",
    "\n",
    "categories = [dirname for dirname in os.listdir(TRAINING_PATH) if dirname[-4:] != '_cut']\n",
    "# print(len(categories), str(categories))\n",
    "\n",
    "category2idx = {'Japan_Travel': 0, 'KR_ENTERTAIN': 1, 'Makeup': 2, 'Tech_Job':  3, 'WomenTalk': 4,\n",
    "                  'babymother': 5, 'e-shopping': 6, 'graduate': 7, 'joke': 8, 'movie': 9}\n",
    "\n",
    "train_pickle_df = pd.read_pickle('train.pkl')\n",
    "train_texts = train_pickle_df[\"text\"].values\n",
    "train_labels = train_pickle_df[\"category\"]\n",
    "# print(len(train_texts), train_texts[0], train_labels[0])   \n",
    "\n",
    "test_pickle_df = pd.read_pickle('test.pkl')\n",
    "test_texts = test_pickle_df[\"text\"].values\n",
    "# print(len(test_texts), test_texts[0]) "
   ]
  },
  {
   "cell_type": "code",
   "execution_count": 31,
   "metadata": {},
   "outputs": [],
   "source": [
    "# # process some data\n",
    "train_labels_list = list(train_labels)\n",
    "# print(type(train_labels_list), len(train_labels_list), train_labels_list[0])\n",
    "embedding_matrix_len = len(train_labels_list)\n",
    "\n",
    "label_id = 0\n",
    "label_list = np.zeros((embedding_matrix_len, 10))\n",
    "for label_val in train_labels_list:\n",
    "    label_list[label_id][label_val] = 1\n",
    "    label_id += 1\n",
    "# print(len(label_list), label_list[0])"
   ]
  },
  {
   "cell_type": "code",
   "execution_count": 7,
   "metadata": {},
   "outputs": [],
   "source": [
    "# get word embedding vector\n",
    "answer = word2vec.Word2Vec.load(\"word2vec1.model\")\n",
    "# print(type(answer))\n",
    "word_vectors = answer.wv\n",
    "wvv = word_vectors.vocab\n",
    "wvv_keys = wvv.keys()\n",
    "wvv_keys_list = list(wvv_keys)\n",
    "# print(wvv_keys_list[:10]) #['櫻花林', '好比', '考科', '床上', '一點現', '記住', '寶寶的', '柔嫩', '不規則', '朴智妍']"
   ]
  },
  {
   "cell_type": "code",
   "execution_count": 8,
   "metadata": {},
   "outputs": [
    {
     "name": "stdout",
     "output_type": "stream",
     "text": [
      "Found 232236 unique tokens\n"
     ]
    }
   ],
   "source": [
    "tokenizer = Tokenizer()\n",
    "tokenizer.fit_on_texts(train_texts)\n",
    "sequences = tokenizer.texts_to_sequences(train_texts)\n",
    "max_doc_word_length = max(len(l) for l in train_texts)\n",
    "sequences1 = pad_sequences(sequences, maxlen=max_doc_word_length, padding='post')\n",
    "word_index = tokenizer.word_index\n",
    "print(\"Found %s unique tokens\" % len(word_index))\n",
    "# data = pad_sequences(sequences)\n",
    "# print(\"Shape of data tensor:\" , data.shape)"
   ]
  },
  {
   "cell_type": "code",
   "execution_count": 10,
   "metadata": {},
   "outputs": [],
   "source": [
    "vocab_size = len(word_index) + 1\n",
    "# create a weight matrix for words in training docs\n",
    "embedding_matrix = np.zeros((vocab_size, 250))\n",
    "for word, i in word_index.items():\n",
    "    if word in wvv_keys_list:\n",
    "        embedding_vector = answer[word]\n",
    "        if embedding_vector is not None:\n",
    "            embedding_matrix[i] = embedding_vector"
   ]
  },
  {
   "cell_type": "code",
   "execution_count": 11,
   "metadata": {},
   "outputs": [
    {
     "name": "stdout",
     "output_type": "stream",
     "text": [
      "_________________________________________________________________\n",
      "Layer (type)                 Output Shape              Param #   \n",
      "=================================================================\n",
      "embedding_1 (Embedding)      (None, 3971, 250)         58059250  \n",
      "_________________________________________________________________\n",
      "simple_rnn_1 (SimpleRNN)     (None, 50)                15050     \n",
      "_________________________________________________________________\n",
      "dense_1 (Dense)              (None, 10)                510       \n",
      "_________________________________________________________________\n",
      "activation_1 (Activation)    (None, 10)                0         \n",
      "=================================================================\n",
      "Total params: 58,074,810\n",
      "Trainable params: 15,560\n",
      "Non-trainable params: 58,059,250\n",
      "_________________________________________________________________\n"
     ]
    }
   ],
   "source": [
    "# input_dim = 400\n",
    "# output_dim = 100\n",
    "# del answer\n",
    "embedding_layer = Embedding(vocab_size, 250, \n",
    "                            weights=[embedding_matrix], \n",
    "                            input_length= max_doc_word_length, \n",
    "                            trainable=False)\n",
    "model = Sequential()\n",
    "model.add(embedding_layer)\n",
    "\n",
    "model.add(SimpleRNN(input_dim = 250, output_dim = 50, unroll=True))\n",
    "nb_classes = 10\n",
    "model.add(Dense( nb_classes, input_dim = 3971))\n",
    "model.add(Activation('softmax'))\n",
    "# early_stopping = keras.callbacks.EarlyStopping(monitor='val_loss', min_delta=0.00001, patience=0, verbose=0, mode='auto')\n",
    "model.compile(optimizer='adam',loss='categorical_crossentropy',  metrics=[\"acc\"])\n",
    "model.summary()"
   ]
  },
  {
   "cell_type": "code",
   "execution_count": 48,
   "metadata": {},
   "outputs": [
    {
     "name": "stdout",
     "output_type": "stream",
     "text": [
      "Train on 8100 samples, validate on 900 samples\n",
      "Epoch 1/50\n",
      "8100/8100 [==============================] - 178s 22ms/step - loss: 2.1945 - acc: 0.1246 - val_loss: 5.8204 - val_acc: 0.0000e+00\n",
      "Epoch 2/50\n",
      "8100/8100 [==============================] - 173s 21ms/step - loss: 2.1946 - acc: 0.1309 - val_loss: 5.8515 - val_acc: 0.0000e+00\n",
      "Epoch 3/50\n",
      "8100/8100 [==============================] - 173s 21ms/step - loss: 2.1949 - acc: 0.1291 - val_loss: 5.8945 - val_acc: 0.0000e+00\n",
      "Epoch 4/50\n",
      "8100/8100 [==============================] - 182s 23ms/step - loss: 2.1947 - acc: 0.1279 - val_loss: 5.9390 - val_acc: 0.0000e+00\n",
      "Epoch 5/50\n",
      "8100/8100 [==============================] - 182s 22ms/step - loss: 2.1941 - acc: 0.1333 - val_loss: 5.9775 - val_acc: 0.0000e+00\n",
      "Epoch 6/50\n",
      "8100/8100 [==============================] - 183s 23ms/step - loss: 2.1944 - acc: 0.1270 - val_loss: 6.0085 - val_acc: 0.0000e+00\n",
      "Epoch 7/50\n",
      "8100/8100 [==============================] - 188s 23ms/step - loss: 2.1942 - acc: 0.1273 - val_loss: 6.0519 - val_acc: 0.0000e+00\n",
      "Epoch 8/50\n",
      "8100/8100 [==============================] - 182s 23ms/step - loss: 2.1940 - acc: 0.1331 - val_loss: 6.0927 - val_acc: 0.0000e+00\n",
      "Epoch 9/50\n",
      "8100/8100 [==============================] - 180s 22ms/step - loss: 2.1944 - acc: 0.1299 - val_loss: 6.1359 - val_acc: 0.0000e+00\n",
      "Epoch 10/50\n",
      "8100/8100 [==============================] - 186s 23ms/step - loss: 2.1936 - acc: 0.1330 - val_loss: 6.1745 - val_acc: 0.0000e+00\n",
      "Epoch 11/50\n",
      "8100/8100 [==============================] - 178s 22ms/step - loss: 2.1943 - acc: 0.1304 - val_loss: 6.2108 - val_acc: 0.0000e+00\n",
      "Epoch 12/50\n",
      "8100/8100 [==============================] - 181s 22ms/step - loss: 2.1938 - acc: 0.1307 - val_loss: 6.2568 - val_acc: 0.0000e+00\n",
      "Epoch 13/50\n",
      "8100/8100 [==============================] - 176s 22ms/step - loss: 2.1942 - acc: 0.1293 - val_loss: 6.3064 - val_acc: 0.0000e+00\n",
      "Epoch 14/50\n",
      "8100/8100 [==============================] - 176s 22ms/step - loss: 2.1941 - acc: 0.1295 - val_loss: 6.3542 - val_acc: 0.0000e+00\n",
      "Epoch 15/50\n",
      "8100/8100 [==============================] - 176s 22ms/step - loss: 2.1941 - acc: 0.1291 - val_loss: 6.3893 - val_acc: 0.0000e+00\n",
      "Epoch 16/50\n",
      "8100/8100 [==============================] - 179s 22ms/step - loss: 2.1945 - acc: 0.1299 - val_loss: 6.4334 - val_acc: 0.0000e+00\n",
      "Epoch 17/50\n",
      "8100/8100 [==============================] - 177s 22ms/step - loss: 2.1938 - acc: 0.1310 - val_loss: 6.4750 - val_acc: 0.0000e+00\n",
      "Epoch 18/50\n",
      "8100/8100 [==============================] - 176s 22ms/step - loss: 2.1935 - acc: 0.1310 - val_loss: 6.5152 - val_acc: 0.0000e+00\n",
      "Epoch 19/50\n",
      "8100/8100 [==============================] - 180s 22ms/step - loss: 2.1940 - acc: 0.1302 - val_loss: 6.5513 - val_acc: 0.0000e+00\n",
      "Epoch 20/50\n",
      "8100/8100 [==============================] - 179s 22ms/step - loss: 2.1947 - acc: 0.1288 - val_loss: 6.5924 - val_acc: 0.0000e+00\n",
      "Epoch 21/50\n",
      "8100/8100 [==============================] - 180s 22ms/step - loss: 2.1930 - acc: 0.1277 - val_loss: 6.6398 - val_acc: 0.0000e+00\n",
      "Epoch 22/50\n",
      "8100/8100 [==============================] - 177s 22ms/step - loss: 2.1952 - acc: 0.1327 - val_loss: 6.6821 - val_acc: 0.0000e+00\n",
      "Epoch 23/50\n",
      "8100/8100 [==============================] - 176s 22ms/step - loss: 2.1937 - acc: 0.1265 - val_loss: 6.7266 - val_acc: 0.0000e+00\n",
      "Epoch 24/50\n",
      "8100/8100 [==============================] - 177s 22ms/step - loss: 2.1936 - acc: 0.1321 - val_loss: 6.7689 - val_acc: 0.0000e+00\n",
      "Epoch 25/50\n",
      "8100/8100 [==============================] - 179s 22ms/step - loss: 2.1934 - acc: 0.1337 - val_loss: 6.8182 - val_acc: 0.0000e+00\n",
      "Epoch 26/50\n",
      "8100/8100 [==============================] - 179s 22ms/step - loss: 2.1933 - acc: 0.1285 - val_loss: 6.8591 - val_acc: 0.0000e+00\n",
      "Epoch 27/50\n",
      "8100/8100 [==============================] - 176s 22ms/step - loss: 2.1936 - acc: 0.1315 - val_loss: 6.8910 - val_acc: 0.0000e+00\n",
      "Epoch 28/50\n",
      "8100/8100 [==============================] - 177s 22ms/step - loss: 2.1934 - acc: 0.1343 - val_loss: 6.9526 - val_acc: 0.0000e+00\n",
      "Epoch 29/50\n",
      "8100/8100 [==============================] - 176s 22ms/step - loss: 2.1938 - acc: 0.1319 - val_loss: 6.9950 - val_acc: 0.0000e+00\n",
      "Epoch 30/50\n",
      "8100/8100 [==============================] - 176s 22ms/step - loss: 2.1937 - acc: 0.1288 - val_loss: 7.0330 - val_acc: 0.0000e+00\n",
      "Epoch 31/50\n",
      "8100/8100 [==============================] - 179s 22ms/step - loss: 2.1940 - acc: 0.1319 - val_loss: 7.0909 - val_acc: 0.0000e+00\n",
      "Epoch 32/50\n",
      "8100/8100 [==============================] - 177s 22ms/step - loss: 2.1923 - acc: 0.1327 - val_loss: 7.1381 - val_acc: 0.0000e+00\n",
      "Epoch 33/50\n",
      "8100/8100 [==============================] - 177s 22ms/step - loss: 2.1936 - acc: 0.1236 - val_loss: 7.1793 - val_acc: 0.0000e+00\n",
      "Epoch 34/50\n",
      "8100/8100 [==============================] - 177s 22ms/step - loss: 2.1930 - acc: 0.1279 - val_loss: 7.2345 - val_acc: 0.0000e+00\n",
      "Epoch 35/50\n",
      "8100/8100 [==============================] - 176s 22ms/step - loss: 2.1932 - acc: 0.1337 - val_loss: 7.2784 - val_acc: 0.0000e+00\n",
      "Epoch 36/50\n",
      "8100/8100 [==============================] - 177s 22ms/step - loss: 2.1930 - acc: 0.1304 - val_loss: 7.3178 - val_acc: 0.0000e+00\n",
      "Epoch 37/50\n",
      "8100/8100 [==============================] - 177s 22ms/step - loss: 2.1946 - acc: 0.1335 - val_loss: 7.3664 - val_acc: 0.0000e+00\n",
      "Epoch 38/50\n",
      "8100/8100 [==============================] - 176s 22ms/step - loss: 2.1938 - acc: 0.1309 - val_loss: 7.4120 - val_acc: 0.0000e+00\n",
      "Epoch 39/50\n",
      "8100/8100 [==============================] - 178s 22ms/step - loss: 2.1924 - acc: 0.1299 - val_loss: 7.4461 - val_acc: 0.0000e+00\n",
      "Epoch 40/50\n",
      "8100/8100 [==============================] - 178s 22ms/step - loss: 2.1932 - acc: 0.1314 - val_loss: 7.4876 - val_acc: 0.0000e+00\n",
      "Epoch 41/50\n",
      "8100/8100 [==============================] - 179s 22ms/step - loss: 2.1920 - acc: 0.1326 - val_loss: 7.5303 - val_acc: 0.0000e+00\n",
      "Epoch 42/50\n",
      "8100/8100 [==============================] - 176s 22ms/step - loss: 2.1920 - acc: 0.1326 - val_loss: 7.5874 - val_acc: 0.0000e+00\n",
      "Epoch 43/50\n",
      "8100/8100 [==============================] - 176s 22ms/step - loss: 2.1924 - acc: 0.1293 - val_loss: 7.6126 - val_acc: 0.0000e+00\n",
      "Epoch 44/50\n",
      "8100/8100 [==============================] - 177s 22ms/step - loss: 2.1922 - acc: 0.1293 - val_loss: 7.6586 - val_acc: 0.0000e+00\n",
      "Epoch 45/50\n",
      "8100/8100 [==============================] - 177s 22ms/step - loss: 2.1907 - acc: 0.1338 - val_loss: 7.7311 - val_acc: 0.0000e+00\n",
      "Epoch 46/50\n",
      "8100/8100 [==============================] - 180s 22ms/step - loss: 2.1922 - acc: 0.1310 - val_loss: 7.7686 - val_acc: 0.0000e+00\n",
      "Epoch 47/50\n",
      "8100/8100 [==============================] - 179s 22ms/step - loss: 2.1917 - acc: 0.1320 - val_loss: 7.8115 - val_acc: 0.0000e+00\n",
      "Epoch 48/50\n",
      "8100/8100 [==============================] - 180s 22ms/step - loss: 2.1908 - acc: 0.1298 - val_loss: 7.8356 - val_acc: 0.0000e+00\n",
      "Epoch 49/50\n",
      "8100/8100 [==============================] - 177s 22ms/step - loss: 2.1922 - acc: 0.1288 - val_loss: 7.9196 - val_acc: 0.0000e+00\n",
      "Epoch 50/50\n",
      "8100/8100 [==============================] - 181s 22ms/step - loss: 2.1919 - acc: 0.1353 - val_loss: 7.9839 - val_acc: 0.0000e+00\n"
     ]
    }
   ],
   "source": [
    "history = model.fit(x = sequences1, y = label_list, \n",
    "                    validation_split=0.1, \n",
    "                    batch_size=100,\n",
    "                    epochs = 50, verbose = 1)"
   ]
  },
  {
   "cell_type": "code",
   "execution_count": 49,
   "metadata": {},
   "outputs": [],
   "source": [
    "# loss_func_name = 'categorical_crossentropy'\n",
    "# for value in history.history[\"categorical_crossentropy\"]:\n",
    "#     print(history)"
   ]
  },
  {
   "cell_type": "code",
   "execution_count": 50,
   "metadata": {},
   "outputs": [
    {
     "name": "stdout",
     "output_type": "stream",
     "text": [
      "100/100 [==============================] - 2s 17ms/step\n",
      "<class 'list'> [2.2190731143951417, 0.0]\n"
     ]
    }
   ],
   "source": [
    "# evaluate the model\n",
    "loss_accuracy = model.evaluate(sequences1[0:100], label_list[0:100], verbose=1)\n",
    "print(type(loss_accuracy), loss_accuracy)"
   ]
  },
  {
   "cell_type": "code",
   "execution_count": 51,
   "metadata": {},
   "outputs": [],
   "source": [
    "test_tokenizer = Tokenizer()\n",
    "test_tokenizer.fit_on_texts(test_texts)\n",
    "test_sequences = test_tokenizer.texts_to_sequences(test_texts)\n",
    "test_sequences1 = pad_sequences(test_sequences, maxlen=max_doc_word_length, padding='post')"
   ]
  },
  {
   "cell_type": "code",
   "execution_count": 52,
   "metadata": {},
   "outputs": [],
   "source": [
    "# print(len(test_sequences1))\n",
    "# print(len(test_sequences1[0]))\n",
    "# print(len(label_list))\n",
    "# print(len(label_list[0]))\n",
    "# old_label = label_list[0]\n",
    "# print(type(label_list[0]))\n",
    "# print(type(old_label))\n",
    "# for label1 in label_list:\n",
    "#     if not np.array_equal(label1 , old_label):\n",
    "#         print(label1)\n",
    "#         old_label = label1"
   ]
  },
  {
   "cell_type": "code",
   "execution_count": 53,
   "metadata": {},
   "outputs": [
    {
     "name": "stdout",
     "output_type": "stream",
     "text": [
      "1000 [[0.08524381 0.10733318 0.10988296 ... 0.00027614 0.11622352 0.11421695]\n",
      " [0.08524381 0.10733318 0.10988295 ... 0.00027614 0.11622351 0.11421695]\n",
      " [0.11029252 0.11253458 0.11136226 ... 0.00032408 0.14846678 0.10097698]\n",
      " ...\n",
      " [0.17032492 0.12551619 0.10894344 ... 0.00056863 0.07839728 0.1115858 ]\n",
      " [0.11029252 0.11253458 0.11136226 ... 0.00032408 0.14846678 0.10097698]\n",
      " [0.11029252 0.11253456 0.11136226 ... 0.00032408 0.14846675 0.10097697]]\n",
      "[6, 6, 8, 4, 8, 0, 4, 6, 0, 8, 6, 6, 6, 6, 6, 6, 8, 6, 4, 4, 4, 0, 6, 8, 0, 6, 8, 0, 0, 4, 8, 6, 4, 0, 8, 6, 8, 8, 8, 8, 6, 4, 4, 6, 6, 8, 6, 8, 6, 6, 8, 4, 0, 6, 8, 0, 6, 0, 6, 0, 6, 0, 4, 0, 6, 4, 4, 6, 4, 6, 0, 0, 8, 8, 6, 6, 0, 4, 6, 8, 6, 6, 6, 8, 6, 6, 4, 6, 8, 6, 0, 4, 4, 6, 6, 6, 6, 0, 0, 4, 4, 4, 8, 8, 8, 8, 0, 6, 0, 4, 6, 6, 8, 8, 8, 8, 0, 0, 4, 4, 8, 6, 8, 6, 8, 6, 8, 4, 4, 6, 6, 8, 6, 6, 6, 8, 0, 0, 8, 0, 6, 6, 8, 0, 4, 0, 4, 0, 4, 8, 6, 4, 8, 6, 6, 4, 8, 0, 0, 0, 4, 8, 8, 0, 6, 8, 8, 4, 4, 8, 8, 4, 6, 6, 4, 8, 0, 0, 8, 8, 8, 4, 6, 6, 0, 6, 4, 0, 8, 0, 8, 0, 6, 4, 4, 8, 6, 6, 0, 4, 6, 4, 8, 4, 6, 4, 0, 8, 8, 6, 8, 8, 4, 6, 4, 4, 6, 0, 8, 4, 0, 6, 0, 6, 8, 4, 6, 6, 6, 8, 4, 6, 4, 6, 8, 0, 4, 4, 6, 4, 8, 8, 8, 4, 8, 8, 4, 6, 8, 4, 6, 4, 6, 8, 0, 6, 4, 0, 8, 8, 6, 8, 4, 8, 8, 8, 4, 8, 6, 0, 8, 4, 6, 4, 8, 4, 6, 4, 8, 4, 0, 0, 8, 0, 8, 4, 8, 6, 8, 8, 8, 4, 8, 0, 6, 6, 8, 8, 6, 8, 6, 8, 0, 4, 8, 8, 0, 0, 6, 8, 6, 8, 4, 6, 8, 0, 6, 0, 6, 4, 4, 4, 4, 0, 8, 4, 6, 0, 8, 4, 0, 6, 8, 4, 8, 4, 8, 4, 8, 0, 8, 6, 0, 8, 4, 6, 4, 0, 6, 8, 0, 4, 6, 6, 4, 6, 4, 8, 4, 0, 0, 6, 4, 6, 6, 8, 6, 6, 6, 8, 6, 4, 0, 8, 6, 8, 6, 4, 0, 6, 6, 8, 8, 8, 8, 8, 8, 8, 8, 4, 4, 0, 8, 4, 6, 6, 6, 6, 8, 8, 6, 8, 0, 8, 6, 6, 6, 8, 8, 6, 8, 6, 6, 6, 6, 6, 8, 4, 4, 8, 8, 8, 0, 6, 0, 0, 8, 6, 0, 4, 4, 8, 8, 6, 6, 8, 6, 6, 0, 8, 8, 8, 0, 0, 0, 6, 6, 8, 6, 6, 4, 6, 4, 0, 6, 8, 8, 6, 4, 8, 6, 6, 6, 8, 0, 0, 8, 8, 4, 8, 8, 8, 8, 8, 0, 8, 8, 8, 6, 8, 8, 8, 4, 8, 8, 4, 6, 6, 6, 8, 8, 8, 4, 0, 8, 8, 8, 6, 8, 6, 0, 0, 4, 6, 6, 8, 6, 8, 6, 8, 8, 4, 6, 8, 4, 6, 0, 6, 8, 4, 6, 8, 6, 6, 4, 8, 8, 8, 4, 6, 4, 4, 8, 4, 8, 0, 4, 6, 4, 6, 6, 4, 4, 8, 0, 6, 4, 0, 4, 8, 6, 0, 6, 4, 0, 8, 6, 6, 8, 0, 4, 6, 0, 6, 4, 6, 4, 0, 8, 8, 6, 8, 0, 0, 6, 6, 6, 8, 8, 8, 8, 8, 4, 8, 0, 8, 8, 0, 0, 4, 4, 8, 8, 6, 8, 4, 6, 0, 4, 6, 0, 8, 6, 0, 6, 6, 0, 6, 8, 6, 0, 4, 4, 6, 4, 4, 6, 6, 6, 0, 8, 8, 4, 8, 8, 0, 8, 8, 4, 6, 6, 6, 6, 6, 4, 6, 8, 6, 0, 6, 6, 6, 0, 8, 8, 0, 8, 0, 8, 6, 4, 6, 0, 8, 6, 6, 8, 6, 6, 4, 8, 6, 0, 4, 4, 6, 4, 8, 0, 8, 0, 6, 6, 6, 6, 0, 6, 4, 4, 6, 8, 8, 6, 6, 4, 4, 6, 0, 4, 8, 6, 4, 4, 0, 8, 8, 4, 8, 0, 8, 6, 8, 8, 4, 0, 4, 6, 8, 6, 8, 8, 8, 8, 6, 6, 8, 4, 6, 8, 0, 8, 4, 0, 6, 6, 0, 6, 8, 8, 4, 8, 6, 8, 6, 6, 6, 6, 6, 6, 6, 8, 8, 8, 6, 6, 6, 4, 6, 8, 8, 8, 8, 8, 6, 4, 6, 8, 0, 6, 8, 4, 0, 6, 6, 4, 8, 8, 8, 8, 8, 4, 8, 6, 6, 0, 4, 8, 4, 6, 0, 0, 6, 4, 6, 4, 6, 4, 8, 6, 8, 0, 0, 6, 4, 8, 6, 0, 8, 6, 8, 8, 6, 6, 4, 6, 8, 0, 6, 0, 6, 8, 8, 4, 6, 0, 8, 6, 4, 4, 0, 8, 0, 0, 0, 8, 4, 0, 0, 4, 4, 8, 0, 6, 4, 0, 6, 8, 8, 0, 8, 6, 0, 8, 6, 6, 4, 8, 6, 4, 4, 6, 6, 6, 8, 8, 6, 8, 6, 4, 6, 0, 6, 0, 8, 4, 8, 4, 8, 8, 4, 6, 8, 0, 6, 6, 8, 0, 0, 6, 8, 4, 6, 0, 8, 4, 4, 4, 6, 6, 0, 8, 4, 6, 6, 4, 0, 4, 4, 0, 8, 4, 4, 0, 6, 6, 8, 4, 4, 0, 8, 4, 0, 6, 6, 6, 8, 0, 4, 6, 0, 8, 0, 0, 4, 8, 8, 6, 8, 6, 8, 6, 8, 4, 6, 6, 4, 8, 6, 8, 8, 6, 4, 8, 8, 0, 6, 6, 0, 6, 6, 8, 6, 4, 8, 8, 6, 0, 0, 8, 8, 0, 6, 6, 0, 8, 8, 4, 4, 6, 8, 6, 0, 0, 6, 0, 8, 4, 0, 0, 0, 8, 6, 4, 0, 8, 0, 6, 8, 0, 4, 6, 8, 8, 4, 8, 8, 8, 0, 8, 8]\n"
     ]
    }
   ],
   "source": [
    "predict_res = model.predict(test_sequences1, batch_size= 32, verbose=0)\n",
    "print(len(predict_res), predict_res)\n",
    "\n",
    "final_res = []\n",
    "for pre_res in predict_res:\n",
    "    final_res.append(np.argmax(pre_res))\n",
    "print(final_res)"
   ]
  },
  {
   "cell_type": "code",
   "execution_count": 55,
   "metadata": {},
   "outputs": [
    {
     "name": "stdout",
     "output_type": "stream",
     "text": [
      "1000\n"
     ]
    }
   ],
   "source": [
    "# result_txt = \"result\" + str(datetime.now()).split()[1] + \".txt\"\n",
    "print(len(final_res))\n",
    "result_txt = \"result001\" + \".txt\"\n",
    "ids = 0\n",
    "with open(result_txt, 'w') as out:\n",
    "    out.write(\"id,category\" + '\\n')\n",
    "    for value in final_res:\n",
    "        out.write(str(ids) + \",\" + str(value) + '\\n')\n",
    "        ids += 1"
   ]
  }
 ],
 "metadata": {
  "kernelspec": {
   "display_name": "Python 3",
   "language": "python",
   "name": "python3"
  },
  "language_info": {
   "codemirror_mode": {
    "name": "ipython",
    "version": 3
   },
   "file_extension": ".py",
   "mimetype": "text/x-python",
   "name": "python",
   "nbconvert_exporter": "python",
   "pygments_lexer": "ipython3",
   "version": "3.5.2"
  }
 },
 "nbformat": 4,
 "nbformat_minor": 2
}
