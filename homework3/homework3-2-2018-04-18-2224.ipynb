{
 "cells": [
  {
   "cell_type": "code",
   "execution_count": 434,
   "metadata": {},
   "outputs": [],
   "source": [
    "import warnings\n",
    "warnings.filterwarnings('ignore')"
   ]
  },
  {
   "cell_type": "code",
   "execution_count": 435,
   "metadata": {},
   "outputs": [],
   "source": [
    "#!/usr/bin/python3\n",
    "# -*- coding: UTF-8 -*-\n",
    "\n",
    "import os\n",
    "import numpy as np\n",
    "import keras\n",
    "from keras.preprocessing.text import Tokenizer\n",
    "from keras.preprocessing.sequence import pad_sequences\n",
    "from keras.models import Sequential\n",
    "from keras.layers import Dense, Dropout, Flatten, SimpleRNN,Activation\n",
    "from keras.layers.embeddings import Embedding\n",
    "from datetime import datetime\n",
    "from gensim.models import word2vec"
   ]
  },
  {
   "cell_type": "code",
   "execution_count": 436,
   "metadata": {},
   "outputs": [
    {
     "name": "stdout",
     "output_type": "stream",
     "text": [
      "11199 11199.666666666666\n"
     ]
    }
   ],
   "source": [
    "input_size = int(33599 / 3)\n",
    "print(input_size, 33599 / 3)"
   ]
  },
  {
   "cell_type": "code",
   "execution_count": 437,
   "metadata": {},
   "outputs": [
    {
     "name": "stdout",
     "output_type": "stream",
     "text": [
      "10 ['Tech_Job', 'e-shopping', 'babymother', 'joke', 'Makeup', 'Japan_Travel', 'WomenTalk', 'movie', 'KR_ENTERTAIN', 'graduate']\n"
     ]
    }
   ],
   "source": [
    "import pandas as pd\n",
    "\n",
    "TRAINING_PATH = './data/training/'\n",
    "TESTING_PATH = './data/testing/'\n",
    "\n",
    "categories = [dirname for dirname in os.listdir(TRAINING_PATH) if dirname[-4:] != '_cut']\n",
    "print(len(categories), str(categories))\n",
    "\n",
    "category2idx = {'Japan_Travel': 0, 'KR_ENTERTAIN': 1, 'Makeup': 2, 'Tech_Job':  3, 'WomenTalk': 4,\n",
    "                  'babymother': 5, 'e-shopping': 6, 'graduate': 7, 'joke': 8, 'movie': 9}\n",
    "\n",
    "\n",
    "train_list = []\n",
    "for category in categories:\n",
    "    category_idx = category2idx[category]\n",
    "    category_path = TRAINING_PATH + category + '_cut/'\n",
    "    \n",
    "    for filename in os.listdir(category_path):\n",
    "        filepath = category_path + filename\n",
    "        \n",
    "        with open(filepath, encoding='utf-8') as file:\n",
    "            words = file.read().strip().split(' / ')\n",
    "            train_list.append([words, category_idx])\n",
    "            \n"
   ]
  },
  {
   "cell_type": "code",
   "execution_count": 438,
   "metadata": {},
   "outputs": [],
   "source": [
    "test_list = []\n",
    "category_path = TESTING_PATH \n",
    "    \n",
    "for filename in os.listdir(category_path):\n",
    "        filepath = category_path + filename\n",
    "        \n",
    "        with open(filepath, encoding='utf-8') as file:\n",
    "            words = file.read().strip().split(' / ')\n",
    "            test_list.append([words, 1])\n",
    "\n",
    "# test_list[1]"
   ]
  },
  {
   "cell_type": "code",
   "execution_count": 439,
   "metadata": {},
   "outputs": [],
   "source": [
    "# train_list[0][1]\n",
    "train_dict =  dict(enumerate(train_list))\n",
    "test_dict =  dict(enumerate(test_list))\n",
    "# train_dict[0][1]\n",
    "# len(train_dict)"
   ]
  },
  {
   "cell_type": "code",
   "execution_count": 440,
   "metadata": {},
   "outputs": [
    {
     "name": "stdout",
     "output_type": "stream",
     "text": [
      "250\n"
     ]
    }
   ],
   "source": [
    "def getArticleVec(article):\n",
    "    article_vec = []\n",
    "    length = 0\n",
    "    for word in article[0]:\n",
    "        if word in wvv.keys():\n",
    "#             print(answer[word])\n",
    "            article_vec.append(answer[word])\n",
    "            length+=1\n",
    "        else:\n",
    "            temp = np.zeros(250)\n",
    "            article_vec.append(temp)\n",
    "#     print(len(article_vec), article_vec[0], article_vec)\n",
    "    return np.mean(article_vec ,axis=0)\n",
    "\n",
    "res1 = getArticleVec(train_list[0])\n",
    "# print(res1)\n",
    "print(len(res1))"
   ]
  },
  {
   "cell_type": "code",
   "execution_count": 441,
   "metadata": {},
   "outputs": [
    {
     "name": "stdout",
     "output_type": "stream",
     "text": [
      "(9000, 10)\n",
      "(10,)\n"
     ]
    }
   ],
   "source": [
    "label_list = np.zeros((len(train_dict), 10))\n",
    "# inss = 0\n",
    "for i,article in train_dict.items():\n",
    "#     print(i,article[1])\n",
    "#     if inss > 10:\n",
    "#         break\n",
    "    sec_i = article[1]\n",
    "    label_list[i][sec_i] = 1\n",
    "\n",
    "#     inss += 1\n",
    "\n",
    "\n",
    "label_new_list= np.zeros((len(train_dict), 10))\n",
    "label_list_i = 0\n",
    "for label in label_list:\n",
    "#     label_list[label_list_i] = np.reshape( label_list[label_list_i] ,(1, 10))\n",
    "    \n",
    "    label_new = np.reshape(label_list[label_list_i],(1, 10))\n",
    "#     print(label_new.shape)\n",
    "#     label_list[label_list_i] = label_new\n",
    "#     print(label_list[label_list_i].shape)\n",
    "    label_new_list[label_list_i] = label_new\n",
    "    label_list_i += 1\n",
    "    \n",
    "print(label_new_list.shape)\n",
    "print(label_new_list[0].shape)"
   ]
  },
  {
   "cell_type": "code",
   "execution_count": 442,
   "metadata": {},
   "outputs": [
    {
     "name": "stdout",
     "output_type": "stream",
     "text": [
      "<class 'gensim.models.word2vec.Word2Vec'>\n"
     ]
    }
   ],
   "source": [
    "answer = word2vec.Word2Vec.load(\"word2vec1.model\")\n",
    "print(type(answer))\n",
    "\n",
    "word_vectors = answer.wv\n",
    "wvv = word_vectors.vocab\n",
    "wvv_keys = wvv.keys()\n",
    "wvv_keys_list = list(wvv_keys)\n",
    "wvv_new_dict = dict(enumerate(wvv_keys_list))\n",
    "# word_index = len(wvv_keys_list)"
   ]
  },
  {
   "cell_type": "code",
   "execution_count": 488,
   "metadata": {},
   "outputs": [],
   "source": [
    "train_pickle_df = pd.read_pickle('train.pkl')\n",
    "train_texts = train_pickle_df[\"text\"]\n",
    "train_texts = train_texts.values\n",
    "# print(train_texts)\n",
    "# ss = type(pickle_df[\"text\"])\n",
    "# print(ss)\n",
    "# print(type(val))\n",
    "# print(val[0])\n",
    "# print(val[1])"
   ]
  },
  {
   "cell_type": "code",
   "execution_count": 489,
   "metadata": {},
   "outputs": [
    {
     "name": "stdout",
     "output_type": "stream",
     "text": [
      "Found 232236 unique tokens\n",
      "Found 0 word vectors.\n"
     ]
    }
   ],
   "source": [
    "texts = train_texts\n",
    "tokenizer = Tokenizer()\n",
    "tokenizer.fit_on_texts(texts)\n",
    "sequences = tokenizer.texts_to_sequences(texts)\n",
    "word_index = tokenizer.word_index\n",
    "print(\"Found %s unique tokens\" % len(word_index))\n",
    "# data = pad_sequences(sequences)\n",
    "# print(\"Shape of data tensor:\" , data.shape)\n",
    "\n",
    "# path = \"word_model.model\"\n",
    "# model.gensim.models.Word2Vec.load(path)\n",
    "embeddings_index = dict()\n",
    "MAX_NB_WORDS = len(word_index)\n",
    "# word_vectors = answer.wv\n",
    "MAX_NB_WORDS = len(word_index)\n",
    "for word,vocab_obj in answer.wv.vocab.items():\n",
    "    if int(vocab_obj.index) < MAX_NB_WORDS and word == -1:\n",
    "#     print(word,vocab_obj)\n",
    "        embeddings_index[word] = word_vectors[word]\n",
    "# del answer, word_vectors\n",
    "print(\"Found %s word vectors.\" % len(embeddings_index))\n",
    "\n",
    "OUT_SIZE = 250 \n",
    "embedding_matrix = np.zeros((len(word_index) + 1, OUT_SIZE))\n",
    "for word,i in word_index.items():\n",
    "    embedding_vector = embeddings_index.get(word)\n",
    "    \n",
    "    if embedding_vector is not None:\n",
    "        embedding_matrix[i] = embedding_vector\n",
    "        embedding_matrix[i]=np.reshape(embedding_matrix[i],(1, 250))\n",
    "embedding_layer = Embedding(len(word_index) + 1, OUT_SIZE,\n",
    "                            weights = [embedding_matrix],\n",
    "                            input_length = 250,\n",
    "                            trainable = False)"
   ]
  },
  {
   "cell_type": "code",
   "execution_count": 525,
   "metadata": {},
   "outputs": [],
   "source": [
    "embedding_matrix_len = len(embedding_matrix)\n",
    "label_list = np.zeros((embedding_matrix_len, 10))\n",
    "label_id = 0\n",
    "for i,article in train_dict.items():\n",
    "    article_len = len(article)\n",
    "    sec_i = article[1]\n",
    "    for w_i in range(0, article_len):\n",
    "        label_list[label_id][sec_i] = 1\n",
    "        label_id += 1\n",
    "    \n",
    "# label_new_list= np.zeros((embedding_matrix_len, 10))\n",
    "# label_list_i = 0\n",
    "# for label in label_list:\n",
    "#     label_new = np.reshape(label_list[label_list_i],(1, 10))\n",
    "#     label_new_list[label_list_i] = label_new\n",
    "#     label_list_i += 1\n",
    "    \n",
    "# del label_list    \n",
    "# print(label_list.shape)\n",
    "# print(label_new_list[0].shape)"
   ]
  },
  {
   "cell_type": "code",
   "execution_count": 507,
   "metadata": {},
   "outputs": [
    {
     "name": "stdout",
     "output_type": "stream",
     "text": [
      "_________________________________________________________________\n",
      "Layer (type)                 Output Shape              Param #   \n",
      "=================================================================\n",
      "embedding_39 (Embedding)     (None, 250, 250)          58059250  \n",
      "_________________________________________________________________\n",
      "simple_rnn_31 (SimpleRNN)    (None, 100)               35100     \n",
      "_________________________________________________________________\n",
      "dense_27 (Dense)             (None, 10)                1010      \n",
      "_________________________________________________________________\n",
      "activation_27 (Activation)   (None, 10)                0         \n",
      "=================================================================\n",
      "Total params: 58,095,360\n",
      "Trainable params: 36,110\n",
      "Non-trainable params: 58,059,250\n",
      "_________________________________________________________________\n"
     ]
    }
   ],
   "source": [
    "# input_dim = 400\n",
    "# output_dim = 100\n",
    "model = Sequential()\n",
    "model.add(embedding_layer)\n",
    "\n",
    "model.add(SimpleRNN(output_dim = 100, \n",
    "                    unroll=True))\n",
    "# model.add(SimpleRNN( output_dim=50, unroll=True, ))\n",
    "\n",
    "nb_classes = 10\n",
    "model.add(Dense( nb_classes))\n",
    "model.add(Activation('softmax'))\n",
    "model.compile(optimizer='adam',loss='categorical_crossentropy',  metrics=['accuracy'])\n",
    "model.summary()"
   ]
  },
  {
   "cell_type": "code",
   "execution_count": 526,
   "metadata": {},
   "outputs": [
    {
     "name": "stdout",
     "output_type": "stream",
     "text": [
      "232237\n",
      "232237\n"
     ]
    }
   ],
   "source": [
    "# train_result= embedding_matrix[0:47]\n",
    "# train_label = label_list[0:47]\n",
    "# model.fit(x = train_result, \n",
    "#           y = train_label,\n",
    "#           epochs = 5, \n",
    "#           verbose = 0)\n",
    "print(len(embedding_matrix))\n",
    "print(len(label_list))"
   ]
  },
  {
   "cell_type": "code",
   "execution_count": null,
   "metadata": {},
   "outputs": [
    {
     "name": "stdout",
     "output_type": "stream",
     "text": [
      "0  , loss :  3.32766    acc :  0.0   minutes:  0.02\n",
      "10  , loss :  0.006115    acc :  1.0   minutes:  0.25\n",
      "20  , loss :  0.044049    acc :  1.0   minutes:  0.47\n",
      "30  , loss :  0.005844    acc :  1.0   minutes:  0.69\n",
      "40  , loss :  0.007404    acc :  1.0   minutes:  0.92\n",
      "50  , loss :  0.003341    acc :  1.0   minutes:  1.14\n",
      "60  , loss :  0.000616    acc :  1.0   minutes:  1.36\n",
      "70  , loss :  0.000555    acc :  1.0   minutes:  1.59\n",
      "80  , loss :  0.00018    acc :  1.0   minutes:  1.81\n",
      "90  , loss :  3.999848    acc :  0.0   minutes:  2.03\n",
      "100  , loss :  0.008296    acc :  1.0   minutes:  2.26\n",
      "110  , loss :  0.000381    acc :  1.0   minutes:  2.48\n"
     ]
    }
   ],
   "source": [
    "import time\n",
    "\n",
    "start_time = time.time()\n",
    "start = 0\n",
    "embedding_matrix\n",
    "for embed_item_index in range(0, 487):\n",
    "#     train_result= np.asarray([embedding_matrix])\n",
    "#     train_label =  np.asarray([label_list[label_id]])\n",
    "    \n",
    "    end = start + 100\n",
    "    train_result= embedding_matrix[start:end]\n",
    "    train_label = label_list[start:end]\n",
    "    model.fit(x = train_result, y = train_label,\n",
    "              epochs = 5, verbose = 0)\n",
    "    \n",
    "    scores = model.evaluate(x = train_result, y = train_label, batch_size=10, verbose = 0)\n",
    "    if  embed_item_index % 10 == 0 :  \n",
    "        end_time = time.time()\n",
    "        excution_time = end_time- start_time\n",
    "        excution_time_min = round(excution_time / 60, 2)\n",
    "        print(embed_item_index, \" , loss : \", round(scores[0], 6), \"   acc : \" , scores[1],\n",
    "              \"  minutes: \" , excution_time_min)\n",
    "        \n",
    "    if embed_item_index < 400 :  \n",
    "        pass\n",
    "        \n",
    "    else:\n",
    "        break\n",
    "    start += 100\n"
   ]
  },
  {
   "cell_type": "code",
   "execution_count": 506,
   "metadata": {},
   "outputs": [
    {
     "name": "stdout",
     "output_type": "stream",
     "text": [
      "[7]\n"
     ]
    }
   ],
   "source": [
    "test_feature=  embedding_matrix[5500:5501]\n",
    "predict_res = model.predict(test_feature, batch_size= 10, verbose=0)\n",
    "#     print(len(predict_res), predict_res[0])\n",
    "final_res = []\n",
    "now_item = predict_res[0]\n",
    "max_val = max(now_item)\n",
    "final_res.append(np.argmax(now_item))\n",
    "print(final_res)"
   ]
  },
  {
   "cell_type": "code",
   "execution_count": null,
   "metadata": {},
   "outputs": [],
   "source": [
    "answer = word2vec.Word2Vec.load(\"word2vec1.model\")\n",
    "word_vectors = answer.wv\n",
    "wvv = word_vectors.vocab\n",
    "wvv_keys = wvv.keys()\n",
    "wvv_keys_list = list(wvv_keys)\n",
    "wvv_new_dict1 = dict(enumerate(wvv_keys_list))\n",
    "print(type(wvv_new_dict1))\n",
    "test_embedding_matrix = np.zeros((len(test_dict) + 1, 400))\n",
    "# inss = 0\n",
    "for i,word in test_dict.items():\n",
    "#     print(i,train_dict[i][1], word, \"\\n\")\n",
    "#     if inss > 10:\n",
    "#         break\n",
    "    test_embedding_vector = wvv_new_dict1[word]\n",
    "    test_embedding_matrix[i] = test_embedding_vector\n",
    "# del answer\n",
    "# embeddings_index = list()\n",
    "# # word_vectors = answer.wv\n",
    "# MAX_NB_WORDS = len(word_index)\n",
    "# for word,vocab_obj in word_vectors.vocab.items():\n",
    "#     if int(vocab_obj.index) < MAX_NB_WORDS:\n",
    "#         embeddings_index[word] = word_vectors[word]\n",
    "# del answer, word_vectors\n",
    "# print(\"Found %s word vectors.\" % len(embeddings_index))"
   ]
  },
  {
   "cell_type": "code",
   "execution_count": null,
   "metadata": {},
   "outputs": [],
   "source": [
    "final_res = []\n",
    "print(len(test_embedding_matrix))\n",
    "for predicc in test_embedding_matrix:\n",
    "    test_feature= np.asarray(predicc)\n",
    "    predict_res = model.predict(test_feature, batch_size= 10, verbose=0)\n",
    "#     print(len(predict_res), predict_res[0])\n",
    "    \n",
    "    now_item = predict_res[0]\n",
    "    max_val = max(now_item)\n",
    "    final_res.append(np.argmax(now_item))\n",
    "print(final_res)"
   ]
  },
  {
   "cell_type": "code",
   "execution_count": null,
   "metadata": {},
   "outputs": [],
   "source": [
    "test_array = np.asarray(test_list)\n",
    "print(test_array.shape)"
   ]
  },
  {
   "cell_type": "code",
   "execution_count": null,
   "metadata": {},
   "outputs": [],
   "source": [
    "# result_txt = \"result\" + str(datetime.now()).split()[1] + \".txt\"\n",
    "print(len(final_res))\n",
    "result_txt = \"result001\" + \".txt\"\n",
    "ids = 0\n",
    "with open(result_txt, 'a') as out:\n",
    "    out.write(\"id,category\" + '\\n')\n",
    "    for value in final_res:\n",
    "        out.write(str(ids) + \",\" + str(value) + '\\n')\n",
    "        ids += 1"
   ]
  },
  {
   "cell_type": "code",
   "execution_count": null,
   "metadata": {},
   "outputs": [],
   "source": []
  }
 ],
 "metadata": {
  "kernelspec": {
   "display_name": "Python 3",
   "language": "python",
   "name": "python3"
  },
  "language_info": {
   "codemirror_mode": {
    "name": "ipython",
    "version": 3
   },
   "file_extension": ".py",
   "mimetype": "text/x-python",
   "name": "python",
   "nbconvert_exporter": "python",
   "pygments_lexer": "ipython3",
   "version": "3.5.2"
  }
 },
 "nbformat": 4,
 "nbformat_minor": 2
}
