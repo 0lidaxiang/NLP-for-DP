{
 "cells": [
  {
   "cell_type": "code",
   "execution_count": 1,
   "metadata": {},
   "outputs": [],
   "source": [
    "import warnings\n",
    "warnings.filterwarnings('ignore')"
   ]
  },
  {
   "cell_type": "code",
   "execution_count": 2,
   "metadata": {},
   "outputs": [
    {
     "name": "stderr",
     "output_type": "stream",
     "text": [
      "Using TensorFlow backend.\n"
     ]
    }
   ],
   "source": [
    "#!/usr/bin/python3\n",
    "# -*- coding: UTF-8 -*-\n",
    "import time\n",
    "from keras import metrics\n",
    "import os\n",
    "import numpy as np\n",
    "import keras\n",
    "from keras.models import load_model\n",
    "from keras.preprocessing.text import Tokenizer\n",
    "from keras.preprocessing.sequence import pad_sequences\n",
    "from keras.models import Sequential\n",
    "from keras.layers import Dense, Dropout, Flatten, SimpleRNN,Activation\n",
    "from keras.layers.embeddings import Embedding\n",
    "from datetime import datetime\n",
    "from gensim.models import word2vec\n",
    "import pandas as pd"
   ]
  },
  {
   "cell_type": "code",
   "execution_count": 22,
   "metadata": {},
   "outputs": [],
   "source": [
    "# get texts data\n",
    "TRAINING_PATH = './data/training/'\n",
    "TESTING_PATH = './data/testing/'\n",
    "\n",
    "categories = [dirname for dirname in os.listdir(TRAINING_PATH) if dirname[-4:] != '_cut']\n",
    "# print(len(categories), str(categories))\n",
    "\n",
    "category2idx = {'Japan_Travel': 0, 'KR_ENTERTAIN': 1, 'Makeup': 2, 'Tech_Job':  3, 'WomenTalk': 4,\n",
    "                  'babymother': 5, 'e-shopping': 6, 'graduate': 7, 'joke': 8, 'movie': 9}\n",
    "\n",
    "train_pickle_df = pd.read_pickle('train.pkl')\n",
    "train_texts = train_pickle_df[\"text\"].values\n",
    "train_labels = train_pickle_df[\"category\"]\n",
    "# print(len(train_texts), train_texts[0], train_labels[0])   \n",
    "\n",
    "test_pickle_df = pd.read_pickle('test.pkl')\n",
    "test_texts = test_pickle_df[\"text\"].values\n",
    "# print(len(test_texts), test_texts[0]) "
   ]
  },
  {
   "cell_type": "code",
   "execution_count": 99,
   "metadata": {},
   "outputs": [
    {
     "name": "stdout",
     "output_type": "stream",
     "text": [
      "<class 'list'> 9000 3\n",
      "[0. 0. 1. 0. 0. 0. 0. 0. 0. 0.]\n",
      "9000\n"
     ]
    }
   ],
   "source": [
    "# # process some data\n",
    "train_labels_list = list(train_labels)\n",
    "print(type(train_labels_list), len(train_labels_list), train_labels_list[0])\n",
    "embedding_matrix_len = len(train_labels_list)\n",
    "\n",
    "label_id = 0\n",
    "label_list = np.zeros((embedding_matrix_len, 10))\n",
    "for label_val in train_labels_list:\n",
    "    index = label_val - 1\n",
    "    label_list[label_id][index] = 1\n",
    "    label_id += 1\n",
    "print(label_list[0])\n",
    "print(len(label_list)) "
   ]
  },
  {
   "cell_type": "code",
   "execution_count": 69,
   "metadata": {},
   "outputs": [
    {
     "name": "stdout",
     "output_type": "stream",
     "text": [
      "['櫻花林', '好比', '考科', '床上', '一點現', '記住', '寶寶的', '柔嫩', '不規則', '朴智妍']\n"
     ]
    }
   ],
   "source": [
    "# get word embedding vector\n",
    "answer = word2vec.Word2Vec.load(\"word2vec1.model\")\n",
    "# print(type(answer))\n",
    "word_vectors = answer.wv\n",
    "wvv = word_vectors.vocab\n",
    "wvv_keys = wvv.keys()\n",
    "wvv_keys_list = list(wvv_keys)\n",
    "# print(wvv_keys_list[:10]) #['櫻花林', '好比', '考科', '床上', '一點現', '記住', '寶寶的', '柔嫩', '不規則', '朴智妍']\n",
    "# wvv_new_dict = dict(enumerate(wvv_keys_list))\n",
    "# # word_index = len(wvv_keys_list)\n",
    "# print(wvv_new_dict)"
   ]
  },
  {
   "cell_type": "code",
   "execution_count": 33,
   "metadata": {},
   "outputs": [
    {
     "name": "stdout",
     "output_type": "stream",
     "text": [
      "Found 232236 unique tokens\n"
     ]
    }
   ],
   "source": [
    "tokenizer = Tokenizer()\n",
    "tokenizer.fit_on_texts(train_texts)\n",
    "sequences = tokenizer.texts_to_sequences(train_texts)\n",
    "max_doc_word_length = max(len(l) for l in train_texts)\n",
    "sequences1 = pad_sequences(sequences, maxlen=max_doc_word_length, padding='post')\n",
    "word_index = tokenizer.word_index\n",
    "print(\"Found %s unique tokens\" % len(word_index))\n",
    "# data = pad_sequences(sequences)\n",
    "# print(\"Shape of data tensor:\" , data.shape)"
   ]
  },
  {
   "cell_type": "code",
   "execution_count": 61,
   "metadata": {
    "scrolled": false
   },
   "outputs": [
    {
     "name": "stdout",
     "output_type": "stream",
     "text": [
      "58 [45, 40836, 2384, 40837, 5991, 49, 197, 28888, 226, 80934, 11421, 2443, 1085, 80935, 1582, 80936, 3054, 14636, 80937, 623, 6847, 13846, 1077, 80938, 80939, 2299, 80940, 80941, 80942, 2299, 129, 33600, 2868, 52, 80943, 519, 4756, 80944, 2266, 53252, 2266, 80945, 907, 5266, 80946, 33601, 80947, 49, 3840, 1714, 296, 11, 370, 836, 5890, 20, 16562, 727]\n"
     ]
    }
   ],
   "source": [
    "# print(len(sequences))\n",
    "print(len(sequences[0]), sequences[0])\n",
    "# print(len(sequences1[0]))\n",
    "# print(wvv) #'同上': <gensim.models.keyedvectors.Vocab object at 0x7fd385b03d68>, \n",
    "# print(type(wvv)) <class 'dict'>"
   ]
  },
  {
   "cell_type": "code",
   "execution_count": 71,
   "metadata": {},
   "outputs": [],
   "source": [
    "vocab_size = len(word_index) + 1\n",
    "# create a weight matrix for words in training docs\n",
    "embedding_matrix = np.zeros((vocab_size, 250))\n",
    "for word, i in word_index.items():\n",
    "    if word in wvv_keys_list:\n",
    "        embedding_vector = answer[word]\n",
    "        if embedding_vector is not None:\n",
    "            embedding_matrix[i] = embedding_vector"
   ]
  },
  {
   "cell_type": "code",
   "execution_count": 73,
   "metadata": {},
   "outputs": [
    {
     "name": "stdout",
     "output_type": "stream",
     "text": [
      "250\n"
     ]
    }
   ],
   "source": [
    "print(len(embedding_matrix[0]))\n",
    "# input_array = np.random.randint(embedding_matrix_len, size=(50, 3971))\n",
    "# print(input_array.shape)"
   ]
  },
  {
   "cell_type": "code",
   "execution_count": 100,
   "metadata": {},
   "outputs": [
    {
     "name": "stdout",
     "output_type": "stream",
     "text": [
      "_________________________________________________________________\n",
      "Layer (type)                 Output Shape              Param #   \n",
      "=================================================================\n",
      "embedding_6 (Embedding)      (None, 3971, 250)         58059250  \n",
      "_________________________________________________________________\n",
      "simple_rnn_6 (SimpleRNN)     (None, 50)                15050     \n",
      "_________________________________________________________________\n",
      "dense_6 (Dense)              (None, 10)                510       \n",
      "_________________________________________________________________\n",
      "activation_6 (Activation)    (None, 10)                0         \n",
      "=================================================================\n",
      "Total params: 58,074,810\n",
      "Trainable params: 15,560\n",
      "Non-trainable params: 58,059,250\n",
      "_________________________________________________________________\n"
     ]
    }
   ],
   "source": [
    "# input_dim = 400\n",
    "# output_dim = 100\n",
    "embedding_layer = Embedding(vocab_size, 250, \n",
    "                            weights=[embedding_matrix], \n",
    "                            input_length= max_doc_word_length, \n",
    "                            trainable=False)\n",
    "model = Sequential()\n",
    "model.add(embedding_layer)\n",
    "\n",
    "model.add(SimpleRNN(input_dim = 250, output_dim = 50, unroll=True))\n",
    "nb_classes = 10\n",
    "model.add(Dense( nb_classes, input_dim = 3971))\n",
    "model.add(Activation('softmax'))\n",
    "early_stopping = keras.callbacks.EarlyStopping(monitor='val_loss', min_delta=0.00001, patience=0, verbose=0, mode='auto')\n",
    "model.compile(optimizer='adam',loss='categorical_crossentropy',  metrics=[metrics.mae, metrics.categorical_accuracy])\n",
    "model.summary()"
   ]
  },
  {
   "cell_type": "code",
   "execution_count": null,
   "metadata": {},
   "outputs": [
    {
     "name": "stdout",
     "output_type": "stream",
     "text": [
      "Train on 8100 samples, validate on 900 samples\n",
      "Epoch 1/1\n",
      "3200/8100 [==========>...................] - ETA: 5:09 - loss: 2.2602 - mean_absolute_error: 0.1789 - categorical_accuracy: 0.1072"
     ]
    }
   ],
   "source": [
    "history = model.fit(x = sequences1, y = label_list, \n",
    "                    validation_split=0.1, \n",
    "                    callbacks=[early_stopping], \n",
    "                    epochs = 1, verbose = 0)"
   ]
  },
  {
   "cell_type": "code",
   "execution_count": null,
   "metadata": {},
   "outputs": [],
   "source": [
    "test_feature=  embedding_matrix[5010:5011]\n",
    "predict_res = model.predict(test_feature, batch_size= 32, verbose=0)\n",
    "print(len(predict_res), predict_res)\n",
    "\n",
    "final_res = []\n",
    "now_item = predict_res[0]\n",
    "max_val = max(now_item)\n",
    "final_res.append(np.argmax(now_item))\n",
    "print(final_res)"
   ]
  },
  {
   "cell_type": "code",
   "execution_count": null,
   "metadata": {},
   "outputs": [],
   "source": [
    "# del model\n",
    "# model = load_model('my_model.h5')\n",
    "len(embedding_matrix)"
   ]
  },
  {
   "cell_type": "code",
   "execution_count": null,
   "metadata": {},
   "outputs": [],
   "source": [
    "# final_res = []\n",
    "# print(len(test_embedding_matrix))\n",
    "# for predicc in test_embedding_matrix:\n",
    "#     test_feature= np.asarray(predicc)\n",
    "#     predict_res = model.predict(test_feature, batch_size= 32, verbose=0)\n",
    "# #     print(len(predict_res), predict_res[0])\n",
    "    \n",
    "#     now_item = predict_res[0]\n",
    "#     max_val = max(now_item)\n",
    "#     final_res.append(np.argmax(now_item))\n",
    "# print(final_res)"
   ]
  },
  {
   "cell_type": "code",
   "execution_count": null,
   "metadata": {},
   "outputs": [],
   "source": [
    "# # result_txt = \"result\" + str(datetime.now()).split()[1] + \".txt\"\n",
    "# print(len(final_res))\n",
    "# result_txt = \"result001\" + \".txt\"\n",
    "# ids = 0\n",
    "# with open(result_txt, 'a') as out:\n",
    "#     out.write(\"id,category\" + '\\n')\n",
    "#     for value in final_res:\n",
    "#         out.write(str(ids) + \",\" + str(value) + '\\n')\n",
    "#         ids += 1"
   ]
  },
  {
   "cell_type": "code",
   "execution_count": null,
   "metadata": {},
   "outputs": [],
   "source": [
    "# start_time = time.time()\n",
    "# start = 0\n",
    "\n",
    "# for embed_item_index in range(0, 487):\n",
    "# #     train_result= np.asarray([embedding_matrix])\n",
    "# #     train_label =  np.asarray([label_list[label_id]])\n",
    "    \n",
    "#     end = start + 100\n",
    "#     train_result= articles_matrix[start:end]\n",
    "#     train_label = label_list[start:end]\n",
    "#     history = model.fit(x = train_result, y = train_label, validation_split=0.1, callbacks=[early_stopping], epochs = 5, verbose = 0)\n",
    "#     model.save('my_model.h5')\n",
    "#     scores = model.evaluate(x = train_result, y = train_label, batch_size=32, verbose = 0)\n",
    "#     if  embed_item_index % 10 == 0 :  \n",
    "#         end_time = time.time()\n",
    "#         excution_time = end_time- start_time\n",
    "#         excution_time_min = round(excution_time / 60, 2)\n",
    "#         print(embed_item_index, \" , loss : \", round(scores[0], 6), \"   acc : \" , scores[1],\n",
    "#               \"  minutes: \" , excution_time_min)\n",
    "# #     loss_func_name = 'categorical_crossentropy'\n",
    "# # #     for value in history.history[loss_func_name]:\n",
    "# #     print(history)\n",
    "        \n",
    "#     if embed_item_index < 40 :  \n",
    "#         pass\n",
    "        \n",
    "#     else:\n",
    "#         break\n",
    "#     start += 100"
   ]
  }
 ],
 "metadata": {
  "kernelspec": {
   "display_name": "Python 3",
   "language": "python",
   "name": "python3"
  },
  "language_info": {
   "codemirror_mode": {
    "name": "ipython",
    "version": 3
   },
   "file_extension": ".py",
   "mimetype": "text/x-python",
   "name": "python",
   "nbconvert_exporter": "python",
   "pygments_lexer": "ipython3",
   "version": "3.5.2"
  }
 },
 "nbformat": 4,
 "nbformat_minor": 2
}
