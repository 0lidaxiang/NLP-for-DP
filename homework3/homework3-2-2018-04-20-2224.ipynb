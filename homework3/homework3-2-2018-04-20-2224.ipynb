{
 "cells": [
  {
   "cell_type": "code",
   "execution_count": 1,
   "metadata": {},
   "outputs": [],
   "source": [
    "import warnings\n",
    "warnings.filterwarnings('ignore')"
   ]
  },
  {
   "cell_type": "code",
   "execution_count": 2,
   "metadata": {},
   "outputs": [
    {
     "name": "stderr",
     "output_type": "stream",
     "text": [
      "Using TensorFlow backend.\n"
     ]
    }
   ],
   "source": [
    "#!/usr/bin/python3\n",
    "# -*- coding: UTF-8 -*-\n",
    "import time\n",
    "from keras import metrics\n",
    "import os\n",
    "import numpy as np\n",
    "import keras\n",
    "from keras.models import load_model\n",
    "from keras.preprocessing.text import Tokenizer\n",
    "from keras.preprocessing.sequence import pad_sequences\n",
    "from keras.models import Sequential\n",
    "from keras.layers import Dense, Dropout, Flatten, SimpleRNN,Activation\n",
    "from keras.layers.embeddings import Embedding\n",
    "from datetime import datetime\n",
    "from gensim.models import word2vec"
   ]
  },
  {
   "cell_type": "code",
   "execution_count": 3,
   "metadata": {},
   "outputs": [
    {
     "name": "stdout",
     "output_type": "stream",
     "text": [
      "11199 11199.666666666666\n"
     ]
    }
   ],
   "source": [
    "input_size = int(33599 / 3)\n",
    "print(input_size, 33599 / 3)"
   ]
  },
  {
   "cell_type": "code",
   "execution_count": 4,
   "metadata": {},
   "outputs": [
    {
     "name": "stdout",
     "output_type": "stream",
     "text": [
      "10 ['Tech_Job', 'e-shopping', 'babymother', 'joke', 'Makeup', 'Japan_Travel', 'WomenTalk', 'movie', 'KR_ENTERTAIN', 'graduate']\n"
     ]
    }
   ],
   "source": [
    "import pandas as pd\n",
    "\n",
    "TRAINING_PATH = './data/training/'\n",
    "TESTING_PATH = './data/testing/'\n",
    "\n",
    "categories = [dirname for dirname in os.listdir(TRAINING_PATH) if dirname[-4:] != '_cut']\n",
    "print(len(categories), str(categories))\n",
    "\n",
    "category2idx = {'Japan_Travel': 0, 'KR_ENTERTAIN': 1, 'Makeup': 2, 'Tech_Job':  3, 'WomenTalk': 4,\n",
    "                  'babymother': 5, 'e-shopping': 6, 'graduate': 7, 'joke': 8, 'movie': 9}\n",
    "\n",
    "\n",
    "train_list = []\n",
    "for category in categories:\n",
    "    category_idx = category2idx[category]\n",
    "    category_path = TRAINING_PATH + category + '_cut/'\n",
    "    \n",
    "    for filename in os.listdir(category_path):\n",
    "        filepath = category_path + filename\n",
    "        \n",
    "        with open(filepath, encoding='utf-8') as file:\n",
    "            words = file.read().strip().split(' / ')\n",
    "            train_list.append([words, category_idx])\n",
    "            "
   ]
  },
  {
   "cell_type": "code",
   "execution_count": 5,
   "metadata": {},
   "outputs": [],
   "source": [
    "# for sss in train_list:\n",
    "#     if sss[1] == 5:\n",
    "#         print(sss)\n",
    "#         break"
   ]
  },
  {
   "cell_type": "code",
   "execution_count": 6,
   "metadata": {},
   "outputs": [],
   "source": [
    "test_list = []\n",
    "category_path = TESTING_PATH \n",
    "    \n",
    "for filename in os.listdir(category_path):\n",
    "        filepath = category_path + filename\n",
    "        \n",
    "        with open(filepath, encoding='utf-8') as file:\n",
    "            words = file.read().strip().split(' / ')\n",
    "            test_list.append([words, 1])\n",
    "\n",
    "# test_list[1]"
   ]
  },
  {
   "cell_type": "code",
   "execution_count": 7,
   "metadata": {},
   "outputs": [],
   "source": [
    "# train_list[0][1]\n",
    "train_dict =  dict(enumerate(train_list))\n",
    "test_dict =  dict(enumerate(test_list))\n",
    "# train_dict[0][1]\n",
    "# len(train_dict)"
   ]
  },
  {
   "cell_type": "code",
   "execution_count": 8,
   "metadata": {},
   "outputs": [],
   "source": [
    "# def getArticleVec(article):\n",
    "#     article_vec = []\n",
    "#     length = 0\n",
    "#     for word in article[0]:\n",
    "#         if word in wvv.keys():\n",
    "# #             print(answer[word])\n",
    "#             article_vec.append(answer[word])\n",
    "#             length+=1\n",
    "#         else:\n",
    "#             temp = np.zeros(250)\n",
    "#             article_vec.append(temp)\n",
    "# #     print(len(article_vec), article_vec[0], article_vec)\n",
    "#     return np.mean(article_vec ,axis=0)\n",
    "\n",
    "# res1 = getArticleVec(train_list[0])\n",
    "# # print(res1)\n",
    "# print(len(res1))"
   ]
  },
  {
   "cell_type": "code",
   "execution_count": 9,
   "metadata": {},
   "outputs": [],
   "source": [
    "# label_list = np.zeros((len(train_dict), 10))\n",
    "# # inss = 0\n",
    "# for i,article in train_dict.items():\n",
    "# #     print(i,article[1])\n",
    "# #     if inss > 10:\n",
    "# #         break\n",
    "#     sec_i = article[1]\n",
    "#     label_list[i][sec_i] = 1\n",
    "#     print(label_list[i])\n",
    "\n",
    "# #     inss += 1\n",
    "# print(len(label_list))\n",
    "\n",
    "# label_new_list= np.zeros((len(train_dict), 10))\n",
    "# label_list_i = 0\n",
    "# for label in label_list:\n",
    "# #     label_list[label_list_i] = np.reshape( label_list[label_list_i] ,(1, 10))\n",
    "    \n",
    "#     label_new = np.reshape(label_list[label_list_i],(1, 10))\n",
    "# #     print(label_new.shape)\n",
    "# #     label_list[label_list_i] = label_new\n",
    "# #     print(label_list[label_list_i].shape)\n",
    "#     label_new_list[label_list_i] = label_new\n",
    "#     label_list_i += 1\n",
    "    \n",
    "# print(label_new_list.shape)\n",
    "# print(label_new_list[0].shape)"
   ]
  },
  {
   "cell_type": "code",
   "execution_count": 10,
   "metadata": {},
   "outputs": [
    {
     "name": "stdout",
     "output_type": "stream",
     "text": [
      "<class 'gensim.models.word2vec.Word2Vec'>\n"
     ]
    }
   ],
   "source": [
    "answer = word2vec.Word2Vec.load(\"word2vec1.model\")\n",
    "print(type(answer))\n",
    "\n",
    "word_vectors = answer.wv\n",
    "wvv = word_vectors.vocab\n",
    "# wvv_keys = wvv.keys()\n",
    "# wvv_keys_list = list(wvv_keys)\n",
    "# wvv_new_dict = dict(enumerate(wvv_keys_list))\n",
    "# word_index = len(wvv_keys_list)"
   ]
  },
  {
   "cell_type": "code",
   "execution_count": 11,
   "metadata": {},
   "outputs": [
    {
     "name": "stdout",
     "output_type": "stream",
     "text": [
      "9000\n",
      "36132\n",
      "3971\n"
     ]
    }
   ],
   "source": [
    "train_pickle_df = pd.read_pickle('train.pkl')\n",
    "train_texts = train_pickle_df[\"text\"]\n",
    "train_texts = train_texts.values\n",
    "print(len(train_texts))\n",
    "print(len(wvv))\n",
    "# ss = type(pickle_df[\"text\"])\n",
    "# print(ss)\n",
    "# print(type(val))\n",
    "ssss=0\n",
    "max_ss_len = 0\n",
    "for i,word in train_dict.items():\n",
    "#     if ssss > 4:\n",
    "#         break\n",
    "    ssss += 1\n",
    "    ss_len = len(word[0])\n",
    "    if max_ss_len < ss_len:\n",
    "        max_ss_len = ss_len\n",
    "#     print(i, ss_len)\n",
    "print(max_ss_len)"
   ]
  },
  {
   "cell_type": "code",
   "execution_count": 51,
   "metadata": {},
   "outputs": [
    {
     "name": "stdout",
     "output_type": "stream",
     "text": [
      "Found 232236 unique tokens\n",
      "Found 0 word vectors.\n"
     ]
    }
   ],
   "source": [
    "texts = train_texts\n",
    "tokenizer = Tokenizer()\n",
    "tokenizer.fit_on_texts(texts)\n",
    "sequences = tokenizer.texts_to_sequences(texts)\n",
    "word_index = tokenizer.word_index\n",
    "print(\"Found %s unique tokens\" % len(word_index))\n",
    "# data = pad_sequences(sequences)\n",
    "# print(\"Shape of data tensor:\" , data.shape)\n",
    "max_doc_word_length = 3971\n",
    "word_index = pad_sequences(sequences, maxlen=max_doc_word_length, padding='post')\n",
    "# print(padded_docs)\n",
    "\n",
    "\n",
    "embeddings_index = dict()\n",
    "MAX_NB_WORDS = len(word_index)\n",
    "for word,vocab_obj in wvv.items():\n",
    "    if int(vocab_obj.index) < MAX_NB_WORDS and word == -1:\n",
    "        embeddings_index[word] = word_vectors[word]\n",
    "# del answer, word_vectors\n",
    "\n",
    "print(\"Found %s word vectors.\" % len(embeddings_index))\n",
    "OUT_SIZE = 250\n",
    "\n",
    "def getArticleMatrix(article_temp):\n",
    "    res = np.zeros((3971,  OUT_SIZE))\n",
    "    i = 0\n",
    "    for word in article_temp:\n",
    "        word_embedding_vector = embeddings_index.get(word)\n",
    "        if word_embedding_vector is not None:\n",
    "            res[i] = word_embedding_vector\n",
    "            res[i]=np.reshape(res[i],(1, 250))\n",
    "    return res"
   ]
  },
  {
   "cell_type": "code",
   "execution_count": 13,
   "metadata": {},
   "outputs": [
    {
     "name": "stdout",
     "output_type": "stream",
     "text": [
      "9000\n",
      "1000\n"
     ]
    }
   ],
   "source": [
    "print(len(train_dict))\n",
    "# print(train_dict[0][0])\n",
    "\n",
    "# ARTICLES_LEN = len(train_dict)\n",
    "ARTICLES_LEN = 1000\n",
    "articles_matrix = np.zeros((ARTICLES_LEN, 3971, 250))\n",
    "for i,article in train_dict.items():\n",
    "    if i < ARTICLES_LEN:\n",
    "        temp_vec = getArticleMatrix(article[0])\n",
    "        if temp_vec is not None:\n",
    "            articles_matrix[i] = temp_vec\n",
    "    else:\n",
    "        break\n",
    "print(len(articles_matrix))"
   ]
  },
  {
   "cell_type": "code",
   "execution_count": 44,
   "metadata": {},
   "outputs": [
    {
     "name": "stdout",
     "output_type": "stream",
     "text": [
      "1 250 3971\n",
      "articles_num 9000\n",
      "embedding_matrix 1\n"
     ]
    }
   ],
   "source": [
    "articles_num = len(train_dict)\n",
    "\n",
    "embedding_matrix = np.zeros( (1,len(word_index), 250))\n",
    "\n",
    "for i,word in word_index.items():\n",
    "    embedding_vector = embeddings_index.get(word)\n",
    "#     print(embedding_vector.shape)\n",
    "    if embedding_vector is not None:\n",
    "        embedding_matrix[i] = embedding_vector\n",
    "embedding_matrix_len = len(embedding_matrix)\n",
    "\n",
    "print(embedding_matrix_len, OUT_SIZE, 3971)\n",
    "embedding_layer = Embedding(embedding_matrix_len, 250,\n",
    "                            weights = [embedding_matrix],\n",
    "                            input_length = 3971,\n",
    "                            trainable = False)\n",
    "print(\"articles_num\", articles_num)\n",
    "print(\"embedding_matrix\", len(embedding_matrix))"
   ]
  },
  {
   "cell_type": "code",
   "execution_count": 46,
   "metadata": {},
   "outputs": [
    {
     "name": "stdout",
     "output_type": "stream",
     "text": [
      "232236\n",
      "(50, 3971)\n"
     ]
    }
   ],
   "source": [
    "print(len(embedding_matrix[0]))\n",
    "# input_array = np.random.randint(embedding_matrix_len, size=(50, 3971))\n",
    "# print(input_array.shape)"
   ]
  },
  {
   "cell_type": "code",
   "execution_count": 31,
   "metadata": {},
   "outputs": [
    {
     "name": "stdout",
     "output_type": "stream",
     "text": [
      "[0. 0. 1. 0. 0. 0. 0. 0. 0. 0.]\n",
      "232236\n"
     ]
    }
   ],
   "source": [
    "embedding_matrix_len = len(embedding_matrix[0])\n",
    "label_list = np.zeros((embedding_matrix_len, 10))\n",
    "label_id = 0\n",
    "for i,article in train_dict.items():\n",
    "    article_len = len(article)\n",
    "    sec_i = article[1]\n",
    "    for w_i in range(0, article_len):\n",
    "        label_list[label_id][sec_i] = 1\n",
    "        label_id += 1\n",
    "#             break\n",
    "print(label_list[i])\n",
    "    \n",
    "# label_new_list= np.zeros((embedding_matrix_len, 10))\n",
    "# label_list_i = 0\n",
    "# for label in label_list:\n",
    "#     label_new = np.reshape(label_list[label_list_i],(1, 10))\n",
    "#     label_new_list[label_list_i] = label_new\n",
    "#     label_list_i += 1\n",
    "print(len(label_list))    \n",
    "# del label_list    \n",
    "# print(label_list.shape)\n",
    "# print(label_new_list[0].shape)"
   ]
  },
  {
   "cell_type": "code",
   "execution_count": 32,
   "metadata": {},
   "outputs": [
    {
     "name": "stdout",
     "output_type": "stream",
     "text": [
      "_________________________________________________________________\n",
      "Layer (type)                 Output Shape              Param #   \n",
      "=================================================================\n",
      "embedding_3 (Embedding)      (None, 3971, 250)         250       \n",
      "_________________________________________________________________\n",
      "simple_rnn_2 (SimpleRNN)     (None, 50)                15050     \n",
      "_________________________________________________________________\n",
      "dense_2 (Dense)              (None, 10)                510       \n",
      "_________________________________________________________________\n",
      "activation_2 (Activation)    (None, 10)                0         \n",
      "=================================================================\n",
      "Total params: 15,810\n",
      "Trainable params: 15,560\n",
      "Non-trainable params: 250\n",
      "_________________________________________________________________\n"
     ]
    }
   ],
   "source": [
    "# input_dim = 400\n",
    "# output_dim = 100\n",
    "model = Sequential()\n",
    "model.add(embedding_layer)\n",
    "\n",
    "model.add(SimpleRNN(input_dim = 250, output_dim = 50, unroll=True))\n",
    "nb_classes = 10\n",
    "model.add(Dense( nb_classes, input_dim = 3971))\n",
    "model.add(Activation('softmax'))\n",
    "early_stopping = keras.callbacks.EarlyStopping(monitor='val_loss', min_delta=0.00001, patience=0, verbose=0, mode='auto')\n",
    "model.compile(optimizer='adam',loss='categorical_crossentropy',  metrics=[metrics.mae, metrics.categorical_accuracy])\n",
    "model.summary()\n",
    "\n",
    "\n"
   ]
  },
  {
   "cell_type": "code",
   "execution_count": 49,
   "metadata": {},
   "outputs": [
    {
     "name": "stdout",
     "output_type": "stream",
     "text": [
      "(250, 3971)\n",
      "[[0. 0. 0. 0. 0. 0. 0. 0. 0. 0.]]\n",
      "(1, 10)\n"
     ]
    }
   ],
   "source": [
    "train_result= articles_matrix[0]\n",
    "train_label = np.asarray(label_list[0])\n",
    "train_result= np.reshape( train_result ,(250, 3971))\n",
    "train_label= np.zeros((1, 10))\n",
    "\n",
    "print(train_result.shape)\n",
    "print(train_label)\n",
    "print(train_label.shape)\n"
   ]
  },
  {
   "cell_type": "code",
   "execution_count": 50,
   "metadata": {},
   "outputs": [
    {
     "ename": "ValueError",
     "evalue": "Input arrays should have the same number of samples as target arrays. Found 250 input samples and 1 target samples.",
     "output_type": "error",
     "traceback": [
      "\u001b[0;31m---------------------------------------------------------------------------\u001b[0m",
      "\u001b[0;31mValueError\u001b[0m                                Traceback (most recent call last)",
      "\u001b[0;32m<ipython-input-50-9132f81acdcf>\u001b[0m in \u001b[0;36m<module>\u001b[0;34m()\u001b[0m\n\u001b[1;32m      2\u001b[0m                     \u001b[0mvalidation_split\u001b[0m\u001b[0;34m=\u001b[0m\u001b[0;36m0.1\u001b[0m\u001b[0;34m,\u001b[0m\u001b[0;34m\u001b[0m\u001b[0m\n\u001b[1;32m      3\u001b[0m                     \u001b[0mcallbacks\u001b[0m\u001b[0;34m=\u001b[0m\u001b[0;34m[\u001b[0m\u001b[0mearly_stopping\u001b[0m\u001b[0;34m]\u001b[0m\u001b[0;34m,\u001b[0m\u001b[0;34m\u001b[0m\u001b[0m\n\u001b[0;32m----> 4\u001b[0;31m                     epochs = 1, verbose = 1)\n\u001b[0m",
      "\u001b[0;32m/usr/local/lib/python3.5/dist-packages/keras/models.py\u001b[0m in \u001b[0;36mfit\u001b[0;34m(self, x, y, batch_size, epochs, verbose, callbacks, validation_split, validation_data, shuffle, class_weight, sample_weight, initial_epoch, steps_per_epoch, validation_steps, **kwargs)\u001b[0m\n\u001b[1;32m    961\u001b[0m                               \u001b[0minitial_epoch\u001b[0m\u001b[0;34m=\u001b[0m\u001b[0minitial_epoch\u001b[0m\u001b[0;34m,\u001b[0m\u001b[0;34m\u001b[0m\u001b[0m\n\u001b[1;32m    962\u001b[0m                               \u001b[0msteps_per_epoch\u001b[0m\u001b[0;34m=\u001b[0m\u001b[0msteps_per_epoch\u001b[0m\u001b[0;34m,\u001b[0m\u001b[0;34m\u001b[0m\u001b[0m\n\u001b[0;32m--> 963\u001b[0;31m                               validation_steps=validation_steps)\n\u001b[0m\u001b[1;32m    964\u001b[0m \u001b[0;34m\u001b[0m\u001b[0m\n\u001b[1;32m    965\u001b[0m     def evaluate(self, x=None, y=None,\n",
      "\u001b[0;32m/usr/local/lib/python3.5/dist-packages/keras/engine/training.py\u001b[0m in \u001b[0;36mfit\u001b[0;34m(self, x, y, batch_size, epochs, verbose, callbacks, validation_split, validation_data, shuffle, class_weight, sample_weight, initial_epoch, steps_per_epoch, validation_steps, **kwargs)\u001b[0m\n\u001b[1;32m   1628\u001b[0m             \u001b[0msample_weight\u001b[0m\u001b[0;34m=\u001b[0m\u001b[0msample_weight\u001b[0m\u001b[0;34m,\u001b[0m\u001b[0;34m\u001b[0m\u001b[0m\n\u001b[1;32m   1629\u001b[0m             \u001b[0mclass_weight\u001b[0m\u001b[0;34m=\u001b[0m\u001b[0mclass_weight\u001b[0m\u001b[0;34m,\u001b[0m\u001b[0;34m\u001b[0m\u001b[0m\n\u001b[0;32m-> 1630\u001b[0;31m             batch_size=batch_size)\n\u001b[0m\u001b[1;32m   1631\u001b[0m         \u001b[0;31m# Prepare validation data.\u001b[0m\u001b[0;34m\u001b[0m\u001b[0;34m\u001b[0m\u001b[0m\n\u001b[1;32m   1632\u001b[0m         \u001b[0mdo_validation\u001b[0m \u001b[0;34m=\u001b[0m \u001b[0;32mFalse\u001b[0m\u001b[0;34m\u001b[0m\u001b[0m\n",
      "\u001b[0;32m/usr/local/lib/python3.5/dist-packages/keras/engine/training.py\u001b[0m in \u001b[0;36m_standardize_user_data\u001b[0;34m(self, x, y, sample_weight, class_weight, check_array_lengths, batch_size)\u001b[0m\n\u001b[1;32m   1488\u001b[0m \u001b[0;34m\u001b[0m\u001b[0m\n\u001b[1;32m   1489\u001b[0m         \u001b[0;32mif\u001b[0m \u001b[0mcheck_array_lengths\u001b[0m\u001b[0;34m:\u001b[0m\u001b[0;34m\u001b[0m\u001b[0m\n\u001b[0;32m-> 1490\u001b[0;31m             \u001b[0m_check_array_lengths\u001b[0m\u001b[0;34m(\u001b[0m\u001b[0mx\u001b[0m\u001b[0;34m,\u001b[0m \u001b[0my\u001b[0m\u001b[0;34m,\u001b[0m \u001b[0msample_weights\u001b[0m\u001b[0;34m)\u001b[0m\u001b[0;34m\u001b[0m\u001b[0m\n\u001b[0m\u001b[1;32m   1491\u001b[0m         _check_loss_and_target_compatibility(y,\n\u001b[1;32m   1492\u001b[0m                                              \u001b[0mself\u001b[0m\u001b[0;34m.\u001b[0m\u001b[0m_feed_loss_fns\u001b[0m\u001b[0;34m,\u001b[0m\u001b[0;34m\u001b[0m\u001b[0m\n",
      "\u001b[0;32m/usr/local/lib/python3.5/dist-packages/keras/engine/training.py\u001b[0m in \u001b[0;36m_check_array_lengths\u001b[0;34m(inputs, targets, weights)\u001b[0m\n\u001b[1;32m    218\u001b[0m                          \u001b[0;34m'the same number of samples as target arrays. '\u001b[0m\u001b[0;34m\u001b[0m\u001b[0m\n\u001b[1;32m    219\u001b[0m                          \u001b[0;34m'Found '\u001b[0m \u001b[0;34m+\u001b[0m \u001b[0mstr\u001b[0m\u001b[0;34m(\u001b[0m\u001b[0mlist\u001b[0m\u001b[0;34m(\u001b[0m\u001b[0mset_x\u001b[0m\u001b[0;34m)\u001b[0m\u001b[0;34m[\u001b[0m\u001b[0;36m0\u001b[0m\u001b[0;34m]\u001b[0m\u001b[0;34m)\u001b[0m \u001b[0;34m+\u001b[0m \u001b[0;34m' input samples '\u001b[0m\u001b[0;34m\u001b[0m\u001b[0m\n\u001b[0;32m--> 220\u001b[0;31m                          'and ' + str(list(set_y)[0]) + ' target samples.')\n\u001b[0m\u001b[1;32m    221\u001b[0m     \u001b[0;32mif\u001b[0m \u001b[0mlen\u001b[0m\u001b[0;34m(\u001b[0m\u001b[0mset_w\u001b[0m\u001b[0;34m)\u001b[0m \u001b[0;34m>\u001b[0m \u001b[0;36m1\u001b[0m\u001b[0;34m:\u001b[0m\u001b[0;34m\u001b[0m\u001b[0m\n\u001b[1;32m    222\u001b[0m         raise ValueError('All sample_weight arrays should have '\n",
      "\u001b[0;31mValueError\u001b[0m: Input arrays should have the same number of samples as target arrays. Found 250 input samples and 1 target samples."
     ]
    }
   ],
   "source": [
    "history = model.fit(x = train_result, y = train_label, \n",
    "                    validation_split=0.1, \n",
    "                    callbacks=[early_stopping], \n",
    "                    epochs = 1, verbose = 1)"
   ]
  },
  {
   "cell_type": "code",
   "execution_count": null,
   "metadata": {},
   "outputs": [],
   "source": [
    "test_feature=  embedding_matrix[5010:5011]\n",
    "predict_res = model.predict(test_feature, batch_size= 32, verbose=0)\n",
    "print(len(predict_res), predict_res)\n",
    "\n",
    "final_res = []\n",
    "now_item = predict_res[0]\n",
    "max_val = max(now_item)\n",
    "final_res.append(np.argmax(now_item))\n",
    "print(final_res)"
   ]
  },
  {
   "cell_type": "code",
   "execution_count": null,
   "metadata": {},
   "outputs": [],
   "source": [
    "# del model\n",
    "# model = load_model('my_model.h5')\n",
    "len(embedding_matrix)"
   ]
  },
  {
   "cell_type": "code",
   "execution_count": null,
   "metadata": {},
   "outputs": [],
   "source": [
    "# final_res = []\n",
    "# print(len(test_embedding_matrix))\n",
    "# for predicc in test_embedding_matrix:\n",
    "#     test_feature= np.asarray(predicc)\n",
    "#     predict_res = model.predict(test_feature, batch_size= 32, verbose=0)\n",
    "# #     print(len(predict_res), predict_res[0])\n",
    "    \n",
    "#     now_item = predict_res[0]\n",
    "#     max_val = max(now_item)\n",
    "#     final_res.append(np.argmax(now_item))\n",
    "# print(final_res)"
   ]
  },
  {
   "cell_type": "code",
   "execution_count": null,
   "metadata": {},
   "outputs": [],
   "source": [
    "# # result_txt = \"result\" + str(datetime.now()).split()[1] + \".txt\"\n",
    "# print(len(final_res))\n",
    "# result_txt = \"result001\" + \".txt\"\n",
    "# ids = 0\n",
    "# with open(result_txt, 'a') as out:\n",
    "#     out.write(\"id,category\" + '\\n')\n",
    "#     for value in final_res:\n",
    "#         out.write(str(ids) + \",\" + str(value) + '\\n')\n",
    "#         ids += 1"
   ]
  },
  {
   "cell_type": "code",
   "execution_count": null,
   "metadata": {},
   "outputs": [],
   "source": [
    "# start_time = time.time()\n",
    "# start = 0\n",
    "\n",
    "# for embed_item_index in range(0, 487):\n",
    "# #     train_result= np.asarray([embedding_matrix])\n",
    "# #     train_label =  np.asarray([label_list[label_id]])\n",
    "    \n",
    "#     end = start + 100\n",
    "#     train_result= articles_matrix[start:end]\n",
    "#     train_label = label_list[start:end]\n",
    "#     history = model.fit(x = train_result, y = train_label, validation_split=0.1, callbacks=[early_stopping], epochs = 5, verbose = 0)\n",
    "#     model.save('my_model.h5')\n",
    "#     scores = model.evaluate(x = train_result, y = train_label, batch_size=32, verbose = 0)\n",
    "#     if  embed_item_index % 10 == 0 :  \n",
    "#         end_time = time.time()\n",
    "#         excution_time = end_time- start_time\n",
    "#         excution_time_min = round(excution_time / 60, 2)\n",
    "#         print(embed_item_index, \" , loss : \", round(scores[0], 6), \"   acc : \" , scores[1],\n",
    "#               \"  minutes: \" , excution_time_min)\n",
    "# #     loss_func_name = 'categorical_crossentropy'\n",
    "# # #     for value in history.history[loss_func_name]:\n",
    "# #     print(history)\n",
    "        \n",
    "#     if embed_item_index < 40 :  \n",
    "#         pass\n",
    "        \n",
    "#     else:\n",
    "#         break\n",
    "#     start += 100"
   ]
  }
 ],
 "metadata": {
  "kernelspec": {
   "display_name": "Python 3",
   "language": "python",
   "name": "python3"
  },
  "language_info": {
   "codemirror_mode": {
    "name": "ipython",
    "version": 3
   },
   "file_extension": ".py",
   "mimetype": "text/x-python",
   "name": "python",
   "nbconvert_exporter": "python",
   "pygments_lexer": "ipython3",
   "version": "3.5.2"
  }
 },
 "nbformat": 4,
 "nbformat_minor": 2
}
